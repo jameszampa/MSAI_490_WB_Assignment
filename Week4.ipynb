{
  "cells": [
    {
      "cell_type": "markdown",
      "metadata": {
        "id": "WO_Pi9tQ99jR"
      },
      "source": [
        "# Week 4 - Models and Experimentation\n",
        "\n",
        "## Step 1 Training a model\n",
        "\n",
        "For the purposes of this demo, we will be using this [adapted demo](https://www.datacamp.com/tutorial/xgboost-in-python) and training an XGBoost model, and then doing some experimentation and hyperparameter tuning.\n",
        "\n",
        "\n",
        "If running this notebook locally, use the following steps to create virtual environment:\n",
        "- Don't use past python 3.10\n",
        "- To create virtual environment use \"venv\"\n",
        "\n",
        "`python -m venv NAME`\n",
        "\n",
        "- Try to avoid anaconda, poetry or similar package management platforms\n",
        "- To install a package use pip\n",
        "\n",
        "`python -m pip install <package-name>`\n",
        "\n",
        "- once you are done working with this virtual environment, deactivate it with `deactivate`"
      ]
    },
    {
      "cell_type": "markdown",
      "metadata": {
        "id": "9fdJQSzCB9QN"
      },
      "source": [
        "### Install packages"
      ]
    },
    {
      "cell_type": "code",
      "execution_count": 114,
      "metadata": {
        "id": "nWPjdRWdCa_c"
      },
      "outputs": [],
      "source": [
        "import xgboost as xgb\n",
        "import pandas as pd\n",
        "import numpy as np\n",
        "import seaborn as sns\n",
        "import matplotlib.pyplot as plt\n",
        "from sklearn.model_selection import train_test_split\n",
        "from sklearn.metrics import mean_squared_error\n"
      ]
    },
    {
      "cell_type": "markdown",
      "metadata": {
        "id": "pN3B41RPCjpk"
      },
      "source": [
        "### Import data\n",
        "\n",
        "We will be using Diamonds dataset imported from Seaborn. It is also available on [Kaggle](https://www.kaggle.com/datasets/shivam2503/diamonds).\n",
        "\n",
        "Read about the features by following the link. We will be predicting the price of diamonds."
      ]
    },
    {
      "cell_type": "code",
      "execution_count": 115,
      "metadata": {
        "colab": {
          "base_uri": "https://localhost:8080/",
          "height": 206
        },
        "id": "xqi0nueWC9u1",
        "outputId": "4dd2eb98-c95e-44a7-ae05-45d6c51caa68"
      },
      "outputs": [
        {
          "data": {
            "text/html": [
              "<div>\n",
              "<style scoped>\n",
              "    .dataframe tbody tr th:only-of-type {\n",
              "        vertical-align: middle;\n",
              "    }\n",
              "\n",
              "    .dataframe tbody tr th {\n",
              "        vertical-align: top;\n",
              "    }\n",
              "\n",
              "    .dataframe thead th {\n",
              "        text-align: right;\n",
              "    }\n",
              "</style>\n",
              "<table border=\"1\" class=\"dataframe\">\n",
              "  <thead>\n",
              "    <tr style=\"text-align: right;\">\n",
              "      <th></th>\n",
              "      <th>carat</th>\n",
              "      <th>cut</th>\n",
              "      <th>color</th>\n",
              "      <th>clarity</th>\n",
              "      <th>depth</th>\n",
              "      <th>table</th>\n",
              "      <th>price</th>\n",
              "      <th>x</th>\n",
              "      <th>y</th>\n",
              "      <th>z</th>\n",
              "    </tr>\n",
              "  </thead>\n",
              "  <tbody>\n",
              "    <tr>\n",
              "      <th>0</th>\n",
              "      <td>0.23</td>\n",
              "      <td>Ideal</td>\n",
              "      <td>E</td>\n",
              "      <td>SI2</td>\n",
              "      <td>61.5</td>\n",
              "      <td>55.0</td>\n",
              "      <td>326</td>\n",
              "      <td>3.95</td>\n",
              "      <td>3.98</td>\n",
              "      <td>2.43</td>\n",
              "    </tr>\n",
              "    <tr>\n",
              "      <th>1</th>\n",
              "      <td>0.21</td>\n",
              "      <td>Premium</td>\n",
              "      <td>E</td>\n",
              "      <td>SI1</td>\n",
              "      <td>59.8</td>\n",
              "      <td>61.0</td>\n",
              "      <td>326</td>\n",
              "      <td>3.89</td>\n",
              "      <td>3.84</td>\n",
              "      <td>2.31</td>\n",
              "    </tr>\n",
              "    <tr>\n",
              "      <th>2</th>\n",
              "      <td>0.23</td>\n",
              "      <td>Good</td>\n",
              "      <td>E</td>\n",
              "      <td>VS1</td>\n",
              "      <td>56.9</td>\n",
              "      <td>65.0</td>\n",
              "      <td>327</td>\n",
              "      <td>4.05</td>\n",
              "      <td>4.07</td>\n",
              "      <td>2.31</td>\n",
              "    </tr>\n",
              "    <tr>\n",
              "      <th>3</th>\n",
              "      <td>0.29</td>\n",
              "      <td>Premium</td>\n",
              "      <td>I</td>\n",
              "      <td>VS2</td>\n",
              "      <td>62.4</td>\n",
              "      <td>58.0</td>\n",
              "      <td>334</td>\n",
              "      <td>4.20</td>\n",
              "      <td>4.23</td>\n",
              "      <td>2.63</td>\n",
              "    </tr>\n",
              "    <tr>\n",
              "      <th>4</th>\n",
              "      <td>0.31</td>\n",
              "      <td>Good</td>\n",
              "      <td>J</td>\n",
              "      <td>SI2</td>\n",
              "      <td>63.3</td>\n",
              "      <td>58.0</td>\n",
              "      <td>335</td>\n",
              "      <td>4.34</td>\n",
              "      <td>4.35</td>\n",
              "      <td>2.75</td>\n",
              "    </tr>\n",
              "  </tbody>\n",
              "</table>\n",
              "</div>"
            ],
            "text/plain": [
              "   carat      cut color clarity  depth  table  price     x     y     z\n",
              "0   0.23    Ideal     E     SI2   61.5   55.0    326  3.95  3.98  2.43\n",
              "1   0.21  Premium     E     SI1   59.8   61.0    326  3.89  3.84  2.31\n",
              "2   0.23     Good     E     VS1   56.9   65.0    327  4.05  4.07  2.31\n",
              "3   0.29  Premium     I     VS2   62.4   58.0    334  4.20  4.23  2.63\n",
              "4   0.31     Good     J     SI2   63.3   58.0    335  4.34  4.35  2.75"
            ]
          },
          "execution_count": 115,
          "metadata": {},
          "output_type": "execute_result"
        }
      ],
      "source": [
        "diamonds = sns.load_dataset('diamonds')\n",
        "diamonds.head()"
      ]
    },
    {
      "cell_type": "code",
      "execution_count": 116,
      "metadata": {
        "colab": {
          "base_uri": "https://localhost:8080/"
        },
        "id": "9eXufssNFjwj",
        "outputId": "517b419b-5d3a-4d67-8fcb-c515d3e71df5"
      },
      "outputs": [
        {
          "name": "stdout",
          "output_type": "stream",
          "text": [
            "<class 'pandas.core.frame.DataFrame'>\n",
            "RangeIndex: 53940 entries, 0 to 53939\n",
            "Data columns (total 10 columns):\n",
            " #   Column   Non-Null Count  Dtype   \n",
            "---  ------   --------------  -----   \n",
            " 0   carat    53940 non-null  float64 \n",
            " 1   cut      53940 non-null  category\n",
            " 2   color    53940 non-null  category\n",
            " 3   clarity  53940 non-null  category\n",
            " 4   depth    53940 non-null  float64 \n",
            " 5   table    53940 non-null  float64 \n",
            " 6   price    53940 non-null  int64   \n",
            " 7   x        53940 non-null  float64 \n",
            " 8   y        53940 non-null  float64 \n",
            " 9   z        53940 non-null  float64 \n",
            "dtypes: category(3), float64(6), int64(1)\n",
            "memory usage: 3.0 MB\n"
          ]
        }
      ],
      "source": [
        "diamonds.info()"
      ]
    },
    {
      "cell_type": "code",
      "execution_count": 117,
      "metadata": {
        "colab": {
          "base_uri": "https://localhost:8080/"
        },
        "id": "Cgzl6cOMFl1i",
        "outputId": "5c9f52ed-5843-4554-e36a-96b7d4ef5e7c"
      },
      "outputs": [
        {
          "data": {
            "text/plain": [
              "(53940, 10)"
            ]
          },
          "execution_count": 117,
          "metadata": {},
          "output_type": "execute_result"
        }
      ],
      "source": [
        "diamonds.shape"
      ]
    },
    {
      "cell_type": "code",
      "execution_count": 118,
      "metadata": {
        "id": "58GvwvXAFnfE"
      },
      "outputs": [],
      "source": [
        "X,y = diamonds.drop('price', axis=1), diamonds[['price']]\n",
        "\n",
        "# For the cut, color and clarity use pandas category to enable XGBoost ability to deal with categorical data.\n",
        "\n",
        "X['cut'] = X['cut'].astype('category')\n",
        "X['color'] = X['color'].astype('category')\n",
        "X['clarity'] = X['clarity'].astype('category')"
      ]
    },
    {
      "cell_type": "markdown",
      "metadata": {
        "id": "jdvS36e5NC77"
      },
      "source": [
        "### Split the data and train a model"
      ]
    },
    {
      "cell_type": "code",
      "execution_count": 119,
      "metadata": {
        "id": "eviT-vNcG4Ed"
      },
      "outputs": [],
      "source": [
        "# Split the data\n",
        "X_train, X_test, y_train, y_test = train_test_split(X, y, test_size=0.2, random_state=42)\n",
        "\n",
        "# Create DMatrix\n",
        "dtrain = xgb.DMatrix(X_train, label=y_train, enable_categorical=True)\n",
        "dtest = xgb.DMatrix(X_test, label=y_test, enable_categorical=True)"
      ]
    },
    {
      "cell_type": "code",
      "execution_count": 120,
      "metadata": {
        "colab": {
          "base_uri": "https://localhost:8080/"
        },
        "id": "5nHCXUzNHxhQ",
        "outputId": "75b819aa-f110-4ea4-c371-09f508c15bed"
      },
      "outputs": [
        {
          "name": "stderr",
          "output_type": "stream",
          "text": [
            "/home/james/anaconda3/envs/wandb/lib/python3.10/site-packages/xgboost/core.py:160: UserWarning: [12:13:38] WARNING: /workspace/src/common/error_msg.cc:27: The tree method `gpu_hist` is deprecated since 2.0.0. To use GPU training, set the `device` parameter to CUDA instead.\n",
            "\n",
            "    E.g. tree_method = \"hist\", device = \"cuda\"\n",
            "\n",
            "  warnings.warn(smsg, UserWarning)\n"
          ]
        }
      ],
      "source": [
        "# Define hyperparameters\n",
        "params = {\"objective\": \"reg:squarederror\", \"tree_method\": \"gpu_hist\"}\n",
        "\n",
        "n = 100\n",
        "model = xgb.train(\n",
        "   params=params,\n",
        "   dtrain=dtrain,\n",
        "   num_boost_round=n,\n",
        ")"
      ]
    },
    {
      "cell_type": "code",
      "execution_count": 121,
      "metadata": {
        "colab": {
          "base_uri": "https://localhost:8080/"
        },
        "id": "w26fYyTmHbxT",
        "outputId": "8dbab927-df17-41d0-bbda-b53825ec3e8e"
      },
      "outputs": [
        {
          "name": "stdout",
          "output_type": "stream",
          "text": [
            "RMSE: 532.8838153117543\n"
          ]
        },
        {
          "name": "stderr",
          "output_type": "stream",
          "text": [
            "/home/james/anaconda3/envs/wandb/lib/python3.10/site-packages/sklearn/metrics/_regression.py:483: FutureWarning: 'squared' is deprecated in version 1.4 and will be removed in 1.6. To calculate the root mean squared error, use the function'root_mean_squared_error'.\n",
            "  warnings.warn(\n"
          ]
        }
      ],
      "source": [
        "# Define evaluation metrics - Root Mean Squared Error\n",
        "\n",
        "predictions = model.predict(dtest)\n",
        "rmse = mean_squared_error(y_test, predictions, squared=False)\n",
        "print(f\"RMSE: {rmse}\")"
      ]
    },
    {
      "cell_type": "markdown",
      "metadata": {
        "id": "OfqyuB7qNIQZ"
      },
      "source": [
        "### Incorporate validation"
      ]
    },
    {
      "cell_type": "code",
      "execution_count": 122,
      "metadata": {
        "id": "1onp1yEfM9cg"
      },
      "outputs": [],
      "source": [
        "params = {\"objective\": \"reg:squarederror\", \"tree_method\": \"gpu_hist\"}\n",
        "n = 100\n",
        "\n",
        "# Create the validation set\n",
        "evals = [(dtrain, \"train\"), (dtest, \"validation\")]"
      ]
    },
    {
      "cell_type": "code",
      "execution_count": 123,
      "metadata": {
        "colab": {
          "base_uri": "https://localhost:8080/"
        },
        "id": "9btf-kzwNfZT",
        "outputId": "01bb02c8-4955-4c87-9b43-d930ccbfa90d"
      },
      "outputs": [
        {
          "name": "stdout",
          "output_type": "stream",
          "text": [
            "[0]\ttrain-rmse:2859.49097\tvalidation-rmse:2851.62630\n",
            "[10]\ttrain-rmse:550.99470\tvalidation-rmse:571.16640\n"
          ]
        },
        {
          "name": "stderr",
          "output_type": "stream",
          "text": [
            "/home/james/anaconda3/envs/wandb/lib/python3.10/site-packages/xgboost/core.py:160: UserWarning: [12:13:38] WARNING: /workspace/src/common/error_msg.cc:27: The tree method `gpu_hist` is deprecated since 2.0.0. To use GPU training, set the `device` parameter to CUDA instead.\n",
            "\n",
            "    E.g. tree_method = \"hist\", device = \"cuda\"\n",
            "\n",
            "  warnings.warn(smsg, UserWarning)\n"
          ]
        },
        {
          "name": "stdout",
          "output_type": "stream",
          "text": [
            "[20]\ttrain-rmse:491.51435\tvalidation-rmse:544.08058\n",
            "[30]\ttrain-rmse:464.38845\tvalidation-rmse:537.01895\n",
            "[40]\ttrain-rmse:445.99106\tvalidation-rmse:533.85127\n",
            "[50]\ttrain-rmse:430.36010\tvalidation-rmse:532.90320\n",
            "[60]\ttrain-rmse:418.87898\tvalidation-rmse:533.04629\n",
            "[70]\ttrain-rmse:409.66247\tvalidation-rmse:533.58046\n",
            "[80]\ttrain-rmse:397.34048\tvalidation-rmse:534.31963\n",
            "[90]\ttrain-rmse:389.94294\tvalidation-rmse:532.61946\n",
            "[99]\ttrain-rmse:377.70831\tvalidation-rmse:532.88383\n"
          ]
        }
      ],
      "source": [
        "evals = [(dtrain, \"train\"), (dtest, \"validation\")]\n",
        "\n",
        "model = xgb.train(\n",
        "   params=params,\n",
        "   dtrain=dtrain,\n",
        "   num_boost_round=n,\n",
        "   evals=evals,\n",
        "   verbose_eval=10,\n",
        ")"
      ]
    },
    {
      "cell_type": "code",
      "execution_count": 124,
      "metadata": {
        "colab": {
          "base_uri": "https://localhost:8080/"
        },
        "id": "a2fGIQRPN4Bg",
        "outputId": "364f769c-67c6-4016-cee1-d33d6a0fef5f"
      },
      "outputs": [
        {
          "name": "stdout",
          "output_type": "stream",
          "text": [
            "[0]\ttrain-rmse:2859.49097\tvalidation-rmse:2851.62630\n"
          ]
        },
        {
          "name": "stderr",
          "output_type": "stream",
          "text": [
            "/home/james/anaconda3/envs/wandb/lib/python3.10/site-packages/xgboost/core.py:160: UserWarning: [12:13:39] WARNING: /workspace/src/common/error_msg.cc:27: The tree method `gpu_hist` is deprecated since 2.0.0. To use GPU training, set the `device` parameter to CUDA instead.\n",
            "\n",
            "    E.g. tree_method = \"hist\", device = \"cuda\"\n",
            "\n",
            "  warnings.warn(smsg, UserWarning)\n"
          ]
        },
        {
          "name": "stdout",
          "output_type": "stream",
          "text": [
            "[50]\ttrain-rmse:430.36010\tvalidation-rmse:532.90320\n",
            "[100]\ttrain-rmse:377.56825\tvalidation-rmse:532.79980\n",
            "[102]\ttrain-rmse:376.20429\tvalidation-rmse:532.59813\n"
          ]
        }
      ],
      "source": [
        "# Incorporate early stopping\n",
        "n = 10000\n",
        "\n",
        "\n",
        "model = xgb.train(\n",
        "   params=params,\n",
        "   dtrain=dtrain,\n",
        "   num_boost_round=n,\n",
        "   evals=evals,\n",
        "   verbose_eval=50,\n",
        "   # Activate early stopping\n",
        "   early_stopping_rounds=50\n",
        ")"
      ]
    },
    {
      "cell_type": "code",
      "execution_count": 125,
      "metadata": {
        "colab": {
          "base_uri": "https://localhost:8080/"
        },
        "id": "FmPP6YI7OMq7",
        "outputId": "febe4241-23d6-44fe-cc9d-f111e37dd153"
      },
      "outputs": [
        {
          "name": "stderr",
          "output_type": "stream",
          "text": [
            "/home/james/anaconda3/envs/wandb/lib/python3.10/site-packages/xgboost/core.py:160: UserWarning: [12:13:40] WARNING: /workspace/src/common/error_msg.cc:27: The tree method `gpu_hist` is deprecated since 2.0.0. To use GPU training, set the `device` parameter to CUDA instead.\n",
            "\n",
            "    E.g. tree_method = \"hist\", device = \"cuda\"\n",
            "\n",
            "  warnings.warn(smsg, UserWarning)\n"
          ]
        }
      ],
      "source": [
        "# Cross-validation\n",
        "\n",
        "params = {\"objective\": \"reg:squarederror\", \"tree_method\": \"gpu_hist\"}\n",
        "n = 1000\n",
        "\n",
        "results = xgb.cv(\n",
        "   params, dtrain,\n",
        "   num_boost_round=n,\n",
        "   nfold=5,\n",
        "   early_stopping_rounds=20\n",
        ")\n"
      ]
    },
    {
      "cell_type": "code",
      "execution_count": 126,
      "metadata": {
        "colab": {
          "base_uri": "https://localhost:8080/",
          "height": 206
        },
        "id": "dhppagDVOWZ0",
        "outputId": "1943edc5-3105-4328-fc7e-a5d2462127f1"
      },
      "outputs": [
        {
          "data": {
            "text/html": [
              "<div>\n",
              "<style scoped>\n",
              "    .dataframe tbody tr th:only-of-type {\n",
              "        vertical-align: middle;\n",
              "    }\n",
              "\n",
              "    .dataframe tbody tr th {\n",
              "        vertical-align: top;\n",
              "    }\n",
              "\n",
              "    .dataframe thead th {\n",
              "        text-align: right;\n",
              "    }\n",
              "</style>\n",
              "<table border=\"1\" class=\"dataframe\">\n",
              "  <thead>\n",
              "    <tr style=\"text-align: right;\">\n",
              "      <th></th>\n",
              "      <th>train-rmse-mean</th>\n",
              "      <th>train-rmse-std</th>\n",
              "      <th>test-rmse-mean</th>\n",
              "      <th>test-rmse-std</th>\n",
              "    </tr>\n",
              "  </thead>\n",
              "  <tbody>\n",
              "    <tr>\n",
              "      <th>0</th>\n",
              "      <td>2861.153015</td>\n",
              "      <td>8.266765</td>\n",
              "      <td>2861.773555</td>\n",
              "      <td>36.937516</td>\n",
              "    </tr>\n",
              "    <tr>\n",
              "      <th>1</th>\n",
              "      <td>2081.378004</td>\n",
              "      <td>5.534608</td>\n",
              "      <td>2084.973481</td>\n",
              "      <td>32.064109</td>\n",
              "    </tr>\n",
              "    <tr>\n",
              "      <th>2</th>\n",
              "      <td>1545.361682</td>\n",
              "      <td>3.287745</td>\n",
              "      <td>1553.681211</td>\n",
              "      <td>31.059209</td>\n",
              "    </tr>\n",
              "    <tr>\n",
              "      <th>3</th>\n",
              "      <td>1182.364236</td>\n",
              "      <td>3.585787</td>\n",
              "      <td>1192.464771</td>\n",
              "      <td>26.157805</td>\n",
              "    </tr>\n",
              "    <tr>\n",
              "      <th>4</th>\n",
              "      <td>941.828819</td>\n",
              "      <td>2.971779</td>\n",
              "      <td>958.467497</td>\n",
              "      <td>23.613538</td>\n",
              "    </tr>\n",
              "  </tbody>\n",
              "</table>\n",
              "</div>"
            ],
            "text/plain": [
              "   train-rmse-mean  train-rmse-std  test-rmse-mean  test-rmse-std\n",
              "0      2861.153015        8.266765     2861.773555      36.937516\n",
              "1      2081.378004        5.534608     2084.973481      32.064109\n",
              "2      1545.361682        3.287745     1553.681211      31.059209\n",
              "3      1182.364236        3.585787     1192.464771      26.157805\n",
              "4       941.828819        2.971779      958.467497      23.613538"
            ]
          },
          "execution_count": 126,
          "metadata": {},
          "output_type": "execute_result"
        }
      ],
      "source": [
        "results.head()"
      ]
    },
    {
      "cell_type": "code",
      "execution_count": 127,
      "metadata": {
        "colab": {
          "base_uri": "https://localhost:8080/"
        },
        "id": "COZyldTfOaWI",
        "outputId": "c3156b16-a6da-4ffc-caf4-a7334aadc6cd"
      },
      "outputs": [
        {
          "data": {
            "text/plain": [
              "549.1039652582465"
            ]
          },
          "execution_count": 127,
          "metadata": {},
          "output_type": "execute_result"
        }
      ],
      "source": [
        "best_rmse = results['test-rmse-mean'].min()\n",
        "\n",
        "best_rmse"
      ]
    },
    {
      "cell_type": "markdown",
      "metadata": {
        "id": "VQNEcz4kF2ng"
      },
      "source": [
        "## Start W&B\n",
        "\n",
        "\n",
        "- Login into your W&B profile using the code below\n",
        "- Alternatively you can set environment variables. There are several env variables which you can set to change the behavior of W&B logging. The most important are:\n",
        "    - WANDB_API_KEY - find this in your \"Settings\" section under your profile\n",
        "    - WANDB_BASE_URL - this is the url of the W&B server\n",
        "\n",
        "- Find your API Token in \"Profile\" -> \"Setttings\" in the W&B App\n",
        "\n"
      ]
    },
    {
      "cell_type": "code",
      "execution_count": 128,
      "metadata": {
        "id": "ftmEQ-keSZ87"
      },
      "outputs": [
        {
          "data": {
            "text/plain": [
              "True"
            ]
          },
          "execution_count": 128,
          "metadata": {},
          "output_type": "execute_result"
        }
      ],
      "source": [
        "# Log in to your W&B account\n",
        "import wandb\n",
        "\n",
        "wandb.login()"
      ]
    },
    {
      "cell_type": "code",
      "execution_count": 129,
      "metadata": {
        "id": "MZL8jjiWUnkS"
      },
      "outputs": [],
      "source": [
        "# TO DO\n",
        "# Start experiment tracking with W&B\n",
        "# Do at least 5 experiments with various hyperparameters\n",
        "# Choose any method for hyperparameter tuning: grid search, random search, bayesian search\n",
        "# Describe your findings and what you see"
      ]
    },
    {
      "cell_type": "code",
      "execution_count": 130,
      "metadata": {},
      "outputs": [],
      "source": [
        "WANDB_PROJECT = 'diamond_prices'"
      ]
    },
    {
      "cell_type": "code",
      "execution_count": 131,
      "metadata": {},
      "outputs": [
        {
          "data": {
            "text/html": [
              "Changes to your `wandb` environment variables will be ignored because your `wandb` session has already started. For more information on how to modify your settings with `wandb.init()` arguments, please refer to <a href='https://wandb.me/wandb-init' target=\"_blank\">the W&B docs</a>."
            ],
            "text/plain": [
              "<IPython.core.display.HTML object>"
            ]
          },
          "metadata": {},
          "output_type": "display_data"
        },
        {
          "name": "stderr",
          "output_type": "stream",
          "text": [
            "\u001b[34m\u001b[1mwandb\u001b[0m: \u001b[33mWARNING\u001b[0m Ignored wandb.init() arg project when running a sweep.\n"
          ]
        },
        {
          "data": {
            "text/html": [
              "Tracking run with wandb version 0.16.6"
            ],
            "text/plain": [
              "<IPython.core.display.HTML object>"
            ]
          },
          "metadata": {},
          "output_type": "display_data"
        },
        {
          "data": {
            "text/html": [
              "Run data is saved locally in <code>/home/james/Projects/MSAI_490_WB_Assignment/wandb/run-20240420_121342-myoqfvgu</code>"
            ],
            "text/plain": [
              "<IPython.core.display.HTML object>"
            ]
          },
          "metadata": {},
          "output_type": "display_data"
        },
        {
          "data": {
            "text/html": [
              "Syncing run <strong><a href='https://wandb.ai/jameszampanu/diamond_prices/runs/myoqfvgu' target=\"_blank\">cool-sweep-3</a></strong> to <a href='https://wandb.ai/jameszampanu/diamond_prices' target=\"_blank\">Weights & Biases</a> (<a href='https://wandb.me/run' target=\"_blank\">docs</a>)<br/>Sweep page: <a href='https://wandb.ai/jameszampanu/diamond_prices/sweeps/xui9r97x' target=\"_blank\">https://wandb.ai/jameszampanu/diamond_prices/sweeps/xui9r97x</a>"
            ],
            "text/plain": [
              "<IPython.core.display.HTML object>"
            ]
          },
          "metadata": {},
          "output_type": "display_data"
        },
        {
          "data": {
            "text/html": [
              " View project at <a href='https://wandb.ai/jameszampanu/diamond_prices' target=\"_blank\">https://wandb.ai/jameszampanu/diamond_prices</a>"
            ],
            "text/plain": [
              "<IPython.core.display.HTML object>"
            ]
          },
          "metadata": {},
          "output_type": "display_data"
        },
        {
          "data": {
            "text/html": [
              " View sweep at <a href='https://wandb.ai/jameszampanu/diamond_prices/sweeps/xui9r97x' target=\"_blank\">https://wandb.ai/jameszampanu/diamond_prices/sweeps/xui9r97x</a>"
            ],
            "text/plain": [
              "<IPython.core.display.HTML object>"
            ]
          },
          "metadata": {},
          "output_type": "display_data"
        },
        {
          "data": {
            "text/html": [
              " View run at <a href='https://wandb.ai/jameszampanu/diamond_prices/runs/myoqfvgu' target=\"_blank\">https://wandb.ai/jameszampanu/diamond_prices/runs/myoqfvgu</a>"
            ],
            "text/plain": [
              "<IPython.core.display.HTML object>"
            ]
          },
          "metadata": {},
          "output_type": "display_data"
        }
      ],
      "source": [
        "run = wandb.init(project=WANDB_PROJECT, job_type='train-model')"
      ]
    },
    {
      "cell_type": "code",
      "execution_count": 132,
      "metadata": {},
      "outputs": [],
      "source": [
        "from wandb.xgboost import WandbCallback"
      ]
    },
    {
      "cell_type": "code",
      "execution_count": 133,
      "metadata": {},
      "outputs": [
        {
          "name": "stdout",
          "output_type": "stream",
          "text": [
            "[0]\tvalidation_0-rmse:2890.49103\n",
            "[1]\tvalidation_0-rmse:2151.25657\n",
            "[2]\tvalidation_0-rmse:1646.16591\n",
            "[3]\tvalidation_0-rmse:1309.68710\n",
            "[4]\tvalidation_0-rmse:1077.47338\n",
            "[5]\tvalidation_0-rmse:916.86440\n",
            "[6]\tvalidation_0-rmse:826.99597\n",
            "[7]\tvalidation_0-rmse:760.80217\n",
            "[8]\tvalidation_0-rmse:719.44433\n",
            "[9]\tvalidation_0-rmse:693.51193\n",
            "[10]\tvalidation_0-rmse:672.84882\n",
            "[11]\tvalidation_0-rmse:654.85984\n",
            "[12]\tvalidation_0-rmse:634.73614\n",
            "[13]\tvalidation_0-rmse:623.18225\n",
            "[14]\tvalidation_0-rmse:617.34221\n",
            "[15]\tvalidation_0-rmse:613.67147\n",
            "[16]\tvalidation_0-rmse:607.32331\n",
            "[17]\tvalidation_0-rmse:604.46119\n",
            "[18]\tvalidation_0-rmse:598.17601\n",
            "[19]\tvalidation_0-rmse:594.88868\n",
            "[20]\tvalidation_0-rmse:593.34843\n",
            "[21]\tvalidation_0-rmse:590.06852\n",
            "[22]\tvalidation_0-rmse:587.76214\n",
            "[23]\tvalidation_0-rmse:585.99364\n",
            "[24]\tvalidation_0-rmse:582.98290\n",
            "[25]\tvalidation_0-rmse:582.47269\n",
            "[26]\tvalidation_0-rmse:580.17669\n",
            "[27]\tvalidation_0-rmse:579.34976\n",
            "[28]\tvalidation_0-rmse:578.84001\n",
            "[29]\tvalidation_0-rmse:577.81118\n",
            "[30]\tvalidation_0-rmse:575.61969\n",
            "[31]\tvalidation_0-rmse:574.99526\n",
            "[32]\tvalidation_0-rmse:573.81131\n",
            "[33]\tvalidation_0-rmse:574.58592\n",
            "[34]\tvalidation_0-rmse:573.74085\n"
          ]
        },
        {
          "name": "stderr",
          "output_type": "stream",
          "text": [
            "/home/james/anaconda3/envs/wandb/lib/python3.10/site-packages/xgboost/core.py:160: UserWarning: [12:13:46] WARNING: /workspace/src/common/error_msg.cc:27: The tree method `gpu_hist` is deprecated since 2.0.0. To use GPU training, set the `device` parameter to CUDA instead.\n",
            "\n",
            "    E.g. tree_method = \"hist\", device = \"cuda\"\n",
            "\n",
            "  warnings.warn(smsg, UserWarning)\n"
          ]
        },
        {
          "name": "stdout",
          "output_type": "stream",
          "text": [
            "[35]\tvalidation_0-rmse:573.47272\n",
            "[36]\tvalidation_0-rmse:572.44439\n",
            "[37]\tvalidation_0-rmse:571.66438\n",
            "[38]\tvalidation_0-rmse:571.07939\n",
            "[39]\tvalidation_0-rmse:570.80938\n",
            "[40]\tvalidation_0-rmse:569.24079\n",
            "[41]\tvalidation_0-rmse:569.96377\n",
            "[42]\tvalidation_0-rmse:569.05688\n",
            "[43]\tvalidation_0-rmse:570.04498\n",
            "[44]\tvalidation_0-rmse:569.55543\n",
            "[45]\tvalidation_0-rmse:568.45968\n",
            "[46]\tvalidation_0-rmse:568.73302\n",
            "[47]\tvalidation_0-rmse:568.48926\n",
            "[48]\tvalidation_0-rmse:568.45652\n",
            "[49]\tvalidation_0-rmse:567.32418\n",
            "[50]\tvalidation_0-rmse:566.54529\n",
            "[51]\tvalidation_0-rmse:565.76741\n",
            "[52]\tvalidation_0-rmse:565.23540\n",
            "[53]\tvalidation_0-rmse:564.38770\n",
            "[54]\tvalidation_0-rmse:564.41182\n",
            "[55]\tvalidation_0-rmse:564.37780\n",
            "[56]\tvalidation_0-rmse:564.79726\n",
            "[57]\tvalidation_0-rmse:564.74789\n",
            "[58]\tvalidation_0-rmse:564.21772\n",
            "[59]\tvalidation_0-rmse:563.96804\n",
            "[60]\tvalidation_0-rmse:563.83542\n",
            "[61]\tvalidation_0-rmse:563.29146\n",
            "[62]\tvalidation_0-rmse:563.05053\n",
            "[63]\tvalidation_0-rmse:562.00163\n",
            "[64]\tvalidation_0-rmse:563.13364\n",
            "[65]\tvalidation_0-rmse:563.56553\n",
            "[66]\tvalidation_0-rmse:563.49698\n",
            "[67]\tvalidation_0-rmse:562.65290\n",
            "[68]\tvalidation_0-rmse:563.52666\n",
            "[69]\tvalidation_0-rmse:563.43718\n",
            "[70]\tvalidation_0-rmse:563.17223\n",
            "[71]\tvalidation_0-rmse:563.51970\n",
            "[72]\tvalidation_0-rmse:563.53180\n",
            "[73]\tvalidation_0-rmse:563.36709\n",
            "[74]\tvalidation_0-rmse:563.09086\n",
            "[75]\tvalidation_0-rmse:563.38607\n",
            "[76]\tvalidation_0-rmse:563.24916\n",
            "[77]\tvalidation_0-rmse:563.05328\n",
            "[78]\tvalidation_0-rmse:562.82099\n",
            "[79]\tvalidation_0-rmse:563.58990\n",
            "[80]\tvalidation_0-rmse:563.46822\n",
            "[81]\tvalidation_0-rmse:564.00106\n",
            "[82]\tvalidation_0-rmse:564.73988\n",
            "[83]\tvalidation_0-rmse:564.05524\n"
          ]
        },
        {
          "data": {
            "text/html": [
              "<style>#sk-container-id-3 {\n",
              "  /* Definition of color scheme common for light and dark mode */\n",
              "  --sklearn-color-text: black;\n",
              "  --sklearn-color-line: gray;\n",
              "  /* Definition of color scheme for unfitted estimators */\n",
              "  --sklearn-color-unfitted-level-0: #fff5e6;\n",
              "  --sklearn-color-unfitted-level-1: #f6e4d2;\n",
              "  --sklearn-color-unfitted-level-2: #ffe0b3;\n",
              "  --sklearn-color-unfitted-level-3: chocolate;\n",
              "  /* Definition of color scheme for fitted estimators */\n",
              "  --sklearn-color-fitted-level-0: #f0f8ff;\n",
              "  --sklearn-color-fitted-level-1: #d4ebff;\n",
              "  --sklearn-color-fitted-level-2: #b3dbfd;\n",
              "  --sklearn-color-fitted-level-3: cornflowerblue;\n",
              "\n",
              "  /* Specific color for light theme */\n",
              "  --sklearn-color-text-on-default-background: var(--sg-text-color, var(--theme-code-foreground, var(--jp-content-font-color1, black)));\n",
              "  --sklearn-color-background: var(--sg-background-color, var(--theme-background, var(--jp-layout-color0, white)));\n",
              "  --sklearn-color-border-box: var(--sg-text-color, var(--theme-code-foreground, var(--jp-content-font-color1, black)));\n",
              "  --sklearn-color-icon: #696969;\n",
              "\n",
              "  @media (prefers-color-scheme: dark) {\n",
              "    /* Redefinition of color scheme for dark theme */\n",
              "    --sklearn-color-text-on-default-background: var(--sg-text-color, var(--theme-code-foreground, var(--jp-content-font-color1, white)));\n",
              "    --sklearn-color-background: var(--sg-background-color, var(--theme-background, var(--jp-layout-color0, #111)));\n",
              "    --sklearn-color-border-box: var(--sg-text-color, var(--theme-code-foreground, var(--jp-content-font-color1, white)));\n",
              "    --sklearn-color-icon: #878787;\n",
              "  }\n",
              "}\n",
              "\n",
              "#sk-container-id-3 {\n",
              "  color: var(--sklearn-color-text);\n",
              "}\n",
              "\n",
              "#sk-container-id-3 pre {\n",
              "  padding: 0;\n",
              "}\n",
              "\n",
              "#sk-container-id-3 input.sk-hidden--visually {\n",
              "  border: 0;\n",
              "  clip: rect(1px 1px 1px 1px);\n",
              "  clip: rect(1px, 1px, 1px, 1px);\n",
              "  height: 1px;\n",
              "  margin: -1px;\n",
              "  overflow: hidden;\n",
              "  padding: 0;\n",
              "  position: absolute;\n",
              "  width: 1px;\n",
              "}\n",
              "\n",
              "#sk-container-id-3 div.sk-dashed-wrapped {\n",
              "  border: 1px dashed var(--sklearn-color-line);\n",
              "  margin: 0 0.4em 0.5em 0.4em;\n",
              "  box-sizing: border-box;\n",
              "  padding-bottom: 0.4em;\n",
              "  background-color: var(--sklearn-color-background);\n",
              "}\n",
              "\n",
              "#sk-container-id-3 div.sk-container {\n",
              "  /* jupyter's `normalize.less` sets `[hidden] { display: none; }`\n",
              "     but bootstrap.min.css set `[hidden] { display: none !important; }`\n",
              "     so we also need the `!important` here to be able to override the\n",
              "     default hidden behavior on the sphinx rendered scikit-learn.org.\n",
              "     See: https://github.com/scikit-learn/scikit-learn/issues/21755 */\n",
              "  display: inline-block !important;\n",
              "  position: relative;\n",
              "}\n",
              "\n",
              "#sk-container-id-3 div.sk-text-repr-fallback {\n",
              "  display: none;\n",
              "}\n",
              "\n",
              "div.sk-parallel-item,\n",
              "div.sk-serial,\n",
              "div.sk-item {\n",
              "  /* draw centered vertical line to link estimators */\n",
              "  background-image: linear-gradient(var(--sklearn-color-text-on-default-background), var(--sklearn-color-text-on-default-background));\n",
              "  background-size: 2px 100%;\n",
              "  background-repeat: no-repeat;\n",
              "  background-position: center center;\n",
              "}\n",
              "\n",
              "/* Parallel-specific style estimator block */\n",
              "\n",
              "#sk-container-id-3 div.sk-parallel-item::after {\n",
              "  content: \"\";\n",
              "  width: 100%;\n",
              "  border-bottom: 2px solid var(--sklearn-color-text-on-default-background);\n",
              "  flex-grow: 1;\n",
              "}\n",
              "\n",
              "#sk-container-id-3 div.sk-parallel {\n",
              "  display: flex;\n",
              "  align-items: stretch;\n",
              "  justify-content: center;\n",
              "  background-color: var(--sklearn-color-background);\n",
              "  position: relative;\n",
              "}\n",
              "\n",
              "#sk-container-id-3 div.sk-parallel-item {\n",
              "  display: flex;\n",
              "  flex-direction: column;\n",
              "}\n",
              "\n",
              "#sk-container-id-3 div.sk-parallel-item:first-child::after {\n",
              "  align-self: flex-end;\n",
              "  width: 50%;\n",
              "}\n",
              "\n",
              "#sk-container-id-3 div.sk-parallel-item:last-child::after {\n",
              "  align-self: flex-start;\n",
              "  width: 50%;\n",
              "}\n",
              "\n",
              "#sk-container-id-3 div.sk-parallel-item:only-child::after {\n",
              "  width: 0;\n",
              "}\n",
              "\n",
              "/* Serial-specific style estimator block */\n",
              "\n",
              "#sk-container-id-3 div.sk-serial {\n",
              "  display: flex;\n",
              "  flex-direction: column;\n",
              "  align-items: center;\n",
              "  background-color: var(--sklearn-color-background);\n",
              "  padding-right: 1em;\n",
              "  padding-left: 1em;\n",
              "}\n",
              "\n",
              "\n",
              "/* Toggleable style: style used for estimator/Pipeline/ColumnTransformer box that is\n",
              "clickable and can be expanded/collapsed.\n",
              "- Pipeline and ColumnTransformer use this feature and define the default style\n",
              "- Estimators will overwrite some part of the style using the `sk-estimator` class\n",
              "*/\n",
              "\n",
              "/* Pipeline and ColumnTransformer style (default) */\n",
              "\n",
              "#sk-container-id-3 div.sk-toggleable {\n",
              "  /* Default theme specific background. It is overwritten whether we have a\n",
              "  specific estimator or a Pipeline/ColumnTransformer */\n",
              "  background-color: var(--sklearn-color-background);\n",
              "}\n",
              "\n",
              "/* Toggleable label */\n",
              "#sk-container-id-3 label.sk-toggleable__label {\n",
              "  cursor: pointer;\n",
              "  display: block;\n",
              "  width: 100%;\n",
              "  margin-bottom: 0;\n",
              "  padding: 0.5em;\n",
              "  box-sizing: border-box;\n",
              "  text-align: center;\n",
              "}\n",
              "\n",
              "#sk-container-id-3 label.sk-toggleable__label-arrow:before {\n",
              "  /* Arrow on the left of the label */\n",
              "  content: \"▸\";\n",
              "  float: left;\n",
              "  margin-right: 0.25em;\n",
              "  color: var(--sklearn-color-icon);\n",
              "}\n",
              "\n",
              "#sk-container-id-3 label.sk-toggleable__label-arrow:hover:before {\n",
              "  color: var(--sklearn-color-text);\n",
              "}\n",
              "\n",
              "/* Toggleable content - dropdown */\n",
              "\n",
              "#sk-container-id-3 div.sk-toggleable__content {\n",
              "  max-height: 0;\n",
              "  max-width: 0;\n",
              "  overflow: hidden;\n",
              "  text-align: left;\n",
              "  /* unfitted */\n",
              "  background-color: var(--sklearn-color-unfitted-level-0);\n",
              "}\n",
              "\n",
              "#sk-container-id-3 div.sk-toggleable__content.fitted {\n",
              "  /* fitted */\n",
              "  background-color: var(--sklearn-color-fitted-level-0);\n",
              "}\n",
              "\n",
              "#sk-container-id-3 div.sk-toggleable__content pre {\n",
              "  margin: 0.2em;\n",
              "  border-radius: 0.25em;\n",
              "  color: var(--sklearn-color-text);\n",
              "  /* unfitted */\n",
              "  background-color: var(--sklearn-color-unfitted-level-0);\n",
              "}\n",
              "\n",
              "#sk-container-id-3 div.sk-toggleable__content.fitted pre {\n",
              "  /* unfitted */\n",
              "  background-color: var(--sklearn-color-fitted-level-0);\n",
              "}\n",
              "\n",
              "#sk-container-id-3 input.sk-toggleable__control:checked~div.sk-toggleable__content {\n",
              "  /* Expand drop-down */\n",
              "  max-height: 200px;\n",
              "  max-width: 100%;\n",
              "  overflow: auto;\n",
              "}\n",
              "\n",
              "#sk-container-id-3 input.sk-toggleable__control:checked~label.sk-toggleable__label-arrow:before {\n",
              "  content: \"▾\";\n",
              "}\n",
              "\n",
              "/* Pipeline/ColumnTransformer-specific style */\n",
              "\n",
              "#sk-container-id-3 div.sk-label input.sk-toggleable__control:checked~label.sk-toggleable__label {\n",
              "  color: var(--sklearn-color-text);\n",
              "  background-color: var(--sklearn-color-unfitted-level-2);\n",
              "}\n",
              "\n",
              "#sk-container-id-3 div.sk-label.fitted input.sk-toggleable__control:checked~label.sk-toggleable__label {\n",
              "  background-color: var(--sklearn-color-fitted-level-2);\n",
              "}\n",
              "\n",
              "/* Estimator-specific style */\n",
              "\n",
              "/* Colorize estimator box */\n",
              "#sk-container-id-3 div.sk-estimator input.sk-toggleable__control:checked~label.sk-toggleable__label {\n",
              "  /* unfitted */\n",
              "  background-color: var(--sklearn-color-unfitted-level-2);\n",
              "}\n",
              "\n",
              "#sk-container-id-3 div.sk-estimator.fitted input.sk-toggleable__control:checked~label.sk-toggleable__label {\n",
              "  /* fitted */\n",
              "  background-color: var(--sklearn-color-fitted-level-2);\n",
              "}\n",
              "\n",
              "#sk-container-id-3 div.sk-label label.sk-toggleable__label,\n",
              "#sk-container-id-3 div.sk-label label {\n",
              "  /* The background is the default theme color */\n",
              "  color: var(--sklearn-color-text-on-default-background);\n",
              "}\n",
              "\n",
              "/* On hover, darken the color of the background */\n",
              "#sk-container-id-3 div.sk-label:hover label.sk-toggleable__label {\n",
              "  color: var(--sklearn-color-text);\n",
              "  background-color: var(--sklearn-color-unfitted-level-2);\n",
              "}\n",
              "\n",
              "/* Label box, darken color on hover, fitted */\n",
              "#sk-container-id-3 div.sk-label.fitted:hover label.sk-toggleable__label.fitted {\n",
              "  color: var(--sklearn-color-text);\n",
              "  background-color: var(--sklearn-color-fitted-level-2);\n",
              "}\n",
              "\n",
              "/* Estimator label */\n",
              "\n",
              "#sk-container-id-3 div.sk-label label {\n",
              "  font-family: monospace;\n",
              "  font-weight: bold;\n",
              "  display: inline-block;\n",
              "  line-height: 1.2em;\n",
              "}\n",
              "\n",
              "#sk-container-id-3 div.sk-label-container {\n",
              "  text-align: center;\n",
              "}\n",
              "\n",
              "/* Estimator-specific */\n",
              "#sk-container-id-3 div.sk-estimator {\n",
              "  font-family: monospace;\n",
              "  border: 1px dotted var(--sklearn-color-border-box);\n",
              "  border-radius: 0.25em;\n",
              "  box-sizing: border-box;\n",
              "  margin-bottom: 0.5em;\n",
              "  /* unfitted */\n",
              "  background-color: var(--sklearn-color-unfitted-level-0);\n",
              "}\n",
              "\n",
              "#sk-container-id-3 div.sk-estimator.fitted {\n",
              "  /* fitted */\n",
              "  background-color: var(--sklearn-color-fitted-level-0);\n",
              "}\n",
              "\n",
              "/* on hover */\n",
              "#sk-container-id-3 div.sk-estimator:hover {\n",
              "  /* unfitted */\n",
              "  background-color: var(--sklearn-color-unfitted-level-2);\n",
              "}\n",
              "\n",
              "#sk-container-id-3 div.sk-estimator.fitted:hover {\n",
              "  /* fitted */\n",
              "  background-color: var(--sklearn-color-fitted-level-2);\n",
              "}\n",
              "\n",
              "/* Specification for estimator info (e.g. \"i\" and \"?\") */\n",
              "\n",
              "/* Common style for \"i\" and \"?\" */\n",
              "\n",
              ".sk-estimator-doc-link,\n",
              "a:link.sk-estimator-doc-link,\n",
              "a:visited.sk-estimator-doc-link {\n",
              "  float: right;\n",
              "  font-size: smaller;\n",
              "  line-height: 1em;\n",
              "  font-family: monospace;\n",
              "  background-color: var(--sklearn-color-background);\n",
              "  border-radius: 1em;\n",
              "  height: 1em;\n",
              "  width: 1em;\n",
              "  text-decoration: none !important;\n",
              "  margin-left: 1ex;\n",
              "  /* unfitted */\n",
              "  border: var(--sklearn-color-unfitted-level-1) 1pt solid;\n",
              "  color: var(--sklearn-color-unfitted-level-1);\n",
              "}\n",
              "\n",
              ".sk-estimator-doc-link.fitted,\n",
              "a:link.sk-estimator-doc-link.fitted,\n",
              "a:visited.sk-estimator-doc-link.fitted {\n",
              "  /* fitted */\n",
              "  border: var(--sklearn-color-fitted-level-1) 1pt solid;\n",
              "  color: var(--sklearn-color-fitted-level-1);\n",
              "}\n",
              "\n",
              "/* On hover */\n",
              "div.sk-estimator:hover .sk-estimator-doc-link:hover,\n",
              ".sk-estimator-doc-link:hover,\n",
              "div.sk-label-container:hover .sk-estimator-doc-link:hover,\n",
              ".sk-estimator-doc-link:hover {\n",
              "  /* unfitted */\n",
              "  background-color: var(--sklearn-color-unfitted-level-3);\n",
              "  color: var(--sklearn-color-background);\n",
              "  text-decoration: none;\n",
              "}\n",
              "\n",
              "div.sk-estimator.fitted:hover .sk-estimator-doc-link.fitted:hover,\n",
              ".sk-estimator-doc-link.fitted:hover,\n",
              "div.sk-label-container:hover .sk-estimator-doc-link.fitted:hover,\n",
              ".sk-estimator-doc-link.fitted:hover {\n",
              "  /* fitted */\n",
              "  background-color: var(--sklearn-color-fitted-level-3);\n",
              "  color: var(--sklearn-color-background);\n",
              "  text-decoration: none;\n",
              "}\n",
              "\n",
              "/* Span, style for the box shown on hovering the info icon */\n",
              ".sk-estimator-doc-link span {\n",
              "  display: none;\n",
              "  z-index: 9999;\n",
              "  position: relative;\n",
              "  font-weight: normal;\n",
              "  right: .2ex;\n",
              "  padding: .5ex;\n",
              "  margin: .5ex;\n",
              "  width: min-content;\n",
              "  min-width: 20ex;\n",
              "  max-width: 50ex;\n",
              "  color: var(--sklearn-color-text);\n",
              "  box-shadow: 2pt 2pt 4pt #999;\n",
              "  /* unfitted */\n",
              "  background: var(--sklearn-color-unfitted-level-0);\n",
              "  border: .5pt solid var(--sklearn-color-unfitted-level-3);\n",
              "}\n",
              "\n",
              ".sk-estimator-doc-link.fitted span {\n",
              "  /* fitted */\n",
              "  background: var(--sklearn-color-fitted-level-0);\n",
              "  border: var(--sklearn-color-fitted-level-3);\n",
              "}\n",
              "\n",
              ".sk-estimator-doc-link:hover span {\n",
              "  display: block;\n",
              "}\n",
              "\n",
              "/* \"?\"-specific style due to the `<a>` HTML tag */\n",
              "\n",
              "#sk-container-id-3 a.estimator_doc_link {\n",
              "  float: right;\n",
              "  font-size: 1rem;\n",
              "  line-height: 1em;\n",
              "  font-family: monospace;\n",
              "  background-color: var(--sklearn-color-background);\n",
              "  border-radius: 1rem;\n",
              "  height: 1rem;\n",
              "  width: 1rem;\n",
              "  text-decoration: none;\n",
              "  /* unfitted */\n",
              "  color: var(--sklearn-color-unfitted-level-1);\n",
              "  border: var(--sklearn-color-unfitted-level-1) 1pt solid;\n",
              "}\n",
              "\n",
              "#sk-container-id-3 a.estimator_doc_link.fitted {\n",
              "  /* fitted */\n",
              "  border: var(--sklearn-color-fitted-level-1) 1pt solid;\n",
              "  color: var(--sklearn-color-fitted-level-1);\n",
              "}\n",
              "\n",
              "/* On hover */\n",
              "#sk-container-id-3 a.estimator_doc_link:hover {\n",
              "  /* unfitted */\n",
              "  background-color: var(--sklearn-color-unfitted-level-3);\n",
              "  color: var(--sklearn-color-background);\n",
              "  text-decoration: none;\n",
              "}\n",
              "\n",
              "#sk-container-id-3 a.estimator_doc_link.fitted:hover {\n",
              "  /* fitted */\n",
              "  background-color: var(--sklearn-color-fitted-level-3);\n",
              "}\n",
              "</style><div id=\"sk-container-id-3\" class=\"sk-top-container\"><div class=\"sk-text-repr-fallback\"><pre>XGBRegressor(base_score=None, booster=None,\n",
              "             callbacks=[&lt;wandb.integration.xgboost.xgboost.WandbCallback object at 0x7efa2b7b46d0&gt;],\n",
              "             colsample_bylevel=None, colsample_bynode=None,\n",
              "             colsample_bytree=None, device=None, early_stopping_rounds=20,\n",
              "             enable_categorical=False, eval_metric=&#x27;rmse&#x27;, feature_types=None,\n",
              "             gamma=None, grow_policy=None, importance_type=None,\n",
              "             interaction_constraints=None, learning_rate=None, max_bin=None,\n",
              "             max_cat_threshold=None, max_cat_to_onehot=None,\n",
              "             max_delta_step=None, max_depth=None, max_leaves=None,\n",
              "             min_child_weight=None, missing=nan, monotone_constraints=None,\n",
              "             multi_strategy=None, n_estimators=1000, n_jobs=None,\n",
              "             num_parallel_tree=None, random_state=None, ...)</pre><b>In a Jupyter environment, please rerun this cell to show the HTML representation or trust the notebook. <br />On GitHub, the HTML representation is unable to render, please try loading this page with nbviewer.org.</b></div><div class=\"sk-container\" hidden><div class=\"sk-item\"><div class=\"sk-estimator fitted sk-toggleable\"><input class=\"sk-toggleable__control sk-hidden--visually\" id=\"sk-estimator-id-3\" type=\"checkbox\" checked><label for=\"sk-estimator-id-3\" class=\"sk-toggleable__label fitted sk-toggleable__label-arrow fitted\">&nbsp;XGBRegressor<span class=\"sk-estimator-doc-link fitted\">i<span>Fitted</span></span></label><div class=\"sk-toggleable__content fitted\"><pre>XGBRegressor(base_score=None, booster=None,\n",
              "             callbacks=[&lt;wandb.integration.xgboost.xgboost.WandbCallback object at 0x7efa2b7b46d0&gt;],\n",
              "             colsample_bylevel=None, colsample_bynode=None,\n",
              "             colsample_bytree=None, device=None, early_stopping_rounds=20,\n",
              "             enable_categorical=False, eval_metric=&#x27;rmse&#x27;, feature_types=None,\n",
              "             gamma=None, grow_policy=None, importance_type=None,\n",
              "             interaction_constraints=None, learning_rate=None, max_bin=None,\n",
              "             max_cat_threshold=None, max_cat_to_onehot=None,\n",
              "             max_delta_step=None, max_depth=None, max_leaves=None,\n",
              "             min_child_weight=None, missing=nan, monotone_constraints=None,\n",
              "             multi_strategy=None, n_estimators=1000, n_jobs=None,\n",
              "             num_parallel_tree=None, random_state=None, ...)</pre></div> </div></div></div></div>"
            ],
            "text/plain": [
              "XGBRegressor(base_score=None, booster=None,\n",
              "             callbacks=[<wandb.integration.xgboost.xgboost.WandbCallback object at 0x7efa2b7b46d0>],\n",
              "             colsample_bylevel=None, colsample_bynode=None,\n",
              "             colsample_bytree=None, device=None, early_stopping_rounds=20,\n",
              "             enable_categorical=False, eval_metric='rmse', feature_types=None,\n",
              "             gamma=None, grow_policy=None, importance_type=None,\n",
              "             interaction_constraints=None, learning_rate=None, max_bin=None,\n",
              "             max_cat_threshold=None, max_cat_to_onehot=None,\n",
              "             max_delta_step=None, max_depth=None, max_leaves=None,\n",
              "             min_child_weight=None, missing=nan, monotone_constraints=None,\n",
              "             multi_strategy=None, n_estimators=1000, n_jobs=None,\n",
              "             num_parallel_tree=None, random_state=None, ...)"
            ]
          },
          "execution_count": 133,
          "metadata": {},
          "output_type": "execute_result"
        }
      ],
      "source": [
        "xbg_params = {\n",
        "    \"objective\": \"reg:squarederror\",\n",
        "    \"tree_method\": \"gpu_hist\",\n",
        "    \"eval_metric\": \"rmse\",\n",
        "}\n",
        "\n",
        "n = 1000\n",
        "early_stopping_rounds = 20\n",
        "\n",
        "xgbmodel = xgb.XGBRegressor(**xbg_params,\n",
        "                            n_estimators=n,\n",
        "                            early_stopping_rounds=early_stopping_rounds,\n",
        "                            callbacks=[WandbCallback()])\n",
        "\n",
        "X_train = pd.get_dummies(X_train)\n",
        "X_test = pd.get_dummies(X_test)\n",
        "xgbmodel.fit(X_train, y_train, eval_set=[(X_test, y_test)])"
      ]
    },
    {
      "cell_type": "code",
      "execution_count": 134,
      "metadata": {},
      "outputs": [
        {
          "data": {
            "text/html": [
              "<style>\n",
              "    table.wandb td:nth-child(1) { padding: 0 10px; text-align: left ; width: auto;} td:nth-child(2) {text-align: left ; width: 100%}\n",
              "    .wandb-row { display: flex; flex-direction: row; flex-wrap: wrap; justify-content: flex-start; width: 100% }\n",
              "    .wandb-col { display: flex; flex-direction: column; flex-basis: 100%; flex: 1; padding: 10px; }\n",
              "    </style>\n",
              "<div class=\"wandb-row\"><div class=\"wandb-col\"><h3>Run history:</h3><br/><table class=\"wandb\"><tr><td>best_iteration</td><td>▁</td></tr><tr><td>best_score</td><td>▁</td></tr><tr><td>epoch</td><td>▁▁▁▂▂▂▂▂▂▃▃▃▃▃▃▄▄▄▄▄▅▅▅▅▅▅▆▆▆▆▆▇▇▇▇▇▇███</td></tr><tr><td>validation_0-rmse</td><td>█▄▃▂▁▁▁▁▁▁▁▁▁▁▁▁▁▁▁▁▁▁▁▁▁▁▁▁▁▁▁▁▁▁▁▁▁▁▁▁</td></tr></table><br/></div><div class=\"wandb-col\"><h3>Run summary:</h3><br/><table class=\"wandb\"><tr><td>best_iteration</td><td>63</td></tr><tr><td>best_score</td><td>562.00163</td></tr><tr><td>epoch</td><td>82</td></tr></table><br/></div></div>"
            ],
            "text/plain": [
              "<IPython.core.display.HTML object>"
            ]
          },
          "metadata": {},
          "output_type": "display_data"
        },
        {
          "data": {
            "text/html": [
              " View run <strong style=\"color:#cdcd00\">cool-sweep-3</strong> at: <a href='https://wandb.ai/jameszampanu/diamond_prices/runs/myoqfvgu' target=\"_blank\">https://wandb.ai/jameszampanu/diamond_prices/runs/myoqfvgu</a><br/> View project at: <a href='https://wandb.ai/jameszampanu/diamond_prices' target=\"_blank\">https://wandb.ai/jameszampanu/diamond_prices</a><br/>Synced 6 W&B file(s), 1 media file(s), 1 artifact file(s) and 0 other file(s)"
            ],
            "text/plain": [
              "<IPython.core.display.HTML object>"
            ]
          },
          "metadata": {},
          "output_type": "display_data"
        },
        {
          "data": {
            "text/html": [
              "Find logs at: <code>./wandb/run-20240420_121342-myoqfvgu/logs</code>"
            ],
            "text/plain": [
              "<IPython.core.display.HTML object>"
            ]
          },
          "metadata": {},
          "output_type": "display_data"
        }
      ],
      "source": [
        "run.finish()"
      ]
    },
    {
      "cell_type": "code",
      "execution_count": 135,
      "metadata": {},
      "outputs": [],
      "source": [
        "sweep_config = {\n",
        "  \"method\" : \"random\",\n",
        "  \"parameters\" : {\n",
        "    \"learning_rate\" :{\n",
        "      \"min\": 0.001,\n",
        "      \"max\": 1.0\n",
        "    },\n",
        "    \"gamma\" :{\n",
        "      \"min\": 0.001,\n",
        "      \"max\": 1.0\n",
        "    },\n",
        "    \"min_child_weight\" :{\n",
        "      \"min\": 1,\n",
        "      \"max\": 150\n",
        "    },\n",
        "    \"early_stopping_rounds\" :{\n",
        "      \"values\" : [10, 20, 30, 40]\n",
        "    },\n",
        "    \"n_estimators\" :{\n",
        "      \"min\": 100,\n",
        "      \"max\": 1000\n",
        "    }\n",
        "  }\n",
        "}"
      ]
    },
    {
      "cell_type": "code",
      "execution_count": 136,
      "metadata": {},
      "outputs": [
        {
          "name": "stdout",
          "output_type": "stream",
          "text": [
            "Create sweep with ID: 27ja3kk1\n",
            "Sweep URL: https://wandb.ai/jameszampanu/diamond_prices/sweeps/27ja3kk1\n"
          ]
        }
      ],
      "source": [
        "sweep_id = wandb.sweep(sweep_config, project=WANDB_PROJECT)"
      ]
    },
    {
      "cell_type": "code",
      "execution_count": 137,
      "metadata": {},
      "outputs": [],
      "source": [
        "def train():\n",
        "    diamonds = sns.load_dataset('diamonds')\n",
        "    diamonds.head()\n",
        "\n",
        "    X,y = diamonds.drop('price', axis=1), diamonds[['price']]\n",
        "\n",
        "    # For the cut, color and clarity use pandas category to enable XGBoost ability to deal with categorical data.\n",
        "\n",
        "    X['cut'] = X['cut'].astype('category')\n",
        "    X['color'] = X['color'].astype('category')\n",
        "    X['clarity'] = X['clarity'].astype('category')\n",
        "    # Split the data\n",
        "    X_train, X_test, y_train, y_test = train_test_split(X, y, test_size=0.2, random_state=42)\n",
        "    with wandb.init(job_type=\"sweep\") as run:\n",
        "        # bst_params = {\n",
        "        #     'objective': 'binary:logistic'\n",
        "        #     , 'base_score': base_rate\n",
        "        #     , 'gamma': run.config['gamma']\n",
        "        #     , 'learning_rate': run.config['learning_rate']\n",
        "        #     , 'max_depth': 3\n",
        "        #     , 'min_child_weight': run.config['min_child_weight']\n",
        "        #     , 'n_estimators': 25\n",
        "        #     , 'nthread': 24 \n",
        "        #     , 'random_state': 42\n",
        "        #     , 'reg_alpha': 0\n",
        "        #     , 'reg_lambda': 0          ## def: 1\n",
        "        #     , 'eval_metric': ['auc', 'logloss']\n",
        "        #     , 'tree_method': 'hist' \n",
        "        # }\n",
        "        xbg_params = {\n",
        "            \"objective\": \"reg:squarederror\",\n",
        "            \"tree_method\": \"gpu_hist\",\n",
        "            \"eval_metric\": \"rmse\",\n",
        "            \"learning_rate\": run.config['learning_rate'],\n",
        "            \"gamma\": run.config['gamma'],\n",
        "            \"min_child_weight\": run.config['min_child_weight'],\n",
        "            \"n_estimators\": run.config['n_estimators']\n",
        "        }\n",
        "\n",
        "        xgbmodel = xgb.XGBRegressor(**xbg_params,\n",
        "                                    early_stopping_rounds=run.config['early_stopping_rounds'],\n",
        "                                    callbacks=[WandbCallback()])\n",
        "\n",
        "        X_train = pd.get_dummies(X_train)\n",
        "        X_test = pd.get_dummies(X_test)\n",
        "        xgbmodel.fit(X_train, y_train, eval_set=[(X_test, y_test)])"
      ]
    },
    {
      "cell_type": "code",
      "execution_count": 138,
      "metadata": {},
      "outputs": [
        {
          "name": "stderr",
          "output_type": "stream",
          "text": [
            "\u001b[34m\u001b[1mwandb\u001b[0m: Agent Starting Run: ot9v5w9y with config:\n",
            "\u001b[34m\u001b[1mwandb\u001b[0m: \tearly_stopping_rounds: 10\n",
            "\u001b[34m\u001b[1mwandb\u001b[0m: \tgamma: 0.3641507366248487\n",
            "\u001b[34m\u001b[1mwandb\u001b[0m: \tlearning_rate: 0.33237579018613544\n",
            "\u001b[34m\u001b[1mwandb\u001b[0m: \tmin_child_weight: 89\n",
            "\u001b[34m\u001b[1mwandb\u001b[0m: \tn_estimators: 814\n",
            "Failed to detect the name of this notebook, you can set it manually with the WANDB_NOTEBOOK_NAME environment variable to enable code saving.\n"
          ]
        },
        {
          "data": {
            "text/html": [
              "Tracking run with wandb version 0.16.6"
            ],
            "text/plain": [
              "<IPython.core.display.HTML object>"
            ]
          },
          "metadata": {},
          "output_type": "display_data"
        },
        {
          "data": {
            "text/html": [
              "Run data is saved locally in <code>/home/james/Projects/MSAI_490_WB_Assignment/wandb/run-20240420_121406-ot9v5w9y</code>"
            ],
            "text/plain": [
              "<IPython.core.display.HTML object>"
            ]
          },
          "metadata": {},
          "output_type": "display_data"
        },
        {
          "data": {
            "text/html": [
              "Syncing run <strong><a href='https://wandb.ai/jameszampanu/diamond_prices/runs/ot9v5w9y' target=\"_blank\">morning-sweep-1</a></strong> to <a href='https://wandb.ai/jameszampanu/diamond_prices' target=\"_blank\">Weights & Biases</a> (<a href='https://wandb.me/run' target=\"_blank\">docs</a>)<br/>Sweep page: <a href='https://wandb.ai/jameszampanu/diamond_prices/sweeps/27ja3kk1' target=\"_blank\">https://wandb.ai/jameszampanu/diamond_prices/sweeps/27ja3kk1</a>"
            ],
            "text/plain": [
              "<IPython.core.display.HTML object>"
            ]
          },
          "metadata": {},
          "output_type": "display_data"
        },
        {
          "data": {
            "text/html": [
              " View project at <a href='https://wandb.ai/jameszampanu/diamond_prices' target=\"_blank\">https://wandb.ai/jameszampanu/diamond_prices</a>"
            ],
            "text/plain": [
              "<IPython.core.display.HTML object>"
            ]
          },
          "metadata": {},
          "output_type": "display_data"
        },
        {
          "data": {
            "text/html": [
              " View sweep at <a href='https://wandb.ai/jameszampanu/diamond_prices/sweeps/27ja3kk1' target=\"_blank\">https://wandb.ai/jameszampanu/diamond_prices/sweeps/27ja3kk1</a>"
            ],
            "text/plain": [
              "<IPython.core.display.HTML object>"
            ]
          },
          "metadata": {},
          "output_type": "display_data"
        },
        {
          "data": {
            "text/html": [
              " View run at <a href='https://wandb.ai/jameszampanu/diamond_prices/runs/ot9v5w9y' target=\"_blank\">https://wandb.ai/jameszampanu/diamond_prices/runs/ot9v5w9y</a>"
            ],
            "text/plain": [
              "<IPython.core.display.HTML object>"
            ]
          },
          "metadata": {},
          "output_type": "display_data"
        },
        {
          "name": "stdout",
          "output_type": "stream",
          "text": [
            "[0]\tvalidation_0-rmse:2787.37924\n",
            "[1]\tvalidation_0-rmse:2001.28527\n",
            "[2]\tvalidation_0-rmse:1503.05942\n",
            "[3]\tvalidation_0-rmse:1199.68585\n",
            "[4]\tvalidation_0-rmse:1013.40151\n",
            "[5]\tvalidation_0-rmse:890.45731\n",
            "[6]\tvalidation_0-rmse:817.06260\n",
            "[7]\tvalidation_0-rmse:763.09086\n",
            "[8]\tvalidation_0-rmse:732.10232\n",
            "[9]\tvalidation_0-rmse:706.23621\n",
            "[10]\tvalidation_0-rmse:683.95971\n",
            "[11]\tvalidation_0-rmse:671.96324\n",
            "[12]\tvalidation_0-rmse:660.40692\n",
            "[13]\tvalidation_0-rmse:653.43501\n",
            "[14]\tvalidation_0-rmse:642.07463\n",
            "[15]\tvalidation_0-rmse:635.21923\n",
            "[16]\tvalidation_0-rmse:630.21488\n",
            "[17]\tvalidation_0-rmse:624.59925\n",
            "[18]\tvalidation_0-rmse:622.02216\n",
            "[19]\tvalidation_0-rmse:614.44228\n",
            "[20]\tvalidation_0-rmse:612.37611\n",
            "[21]\tvalidation_0-rmse:611.20840\n",
            "[22]\tvalidation_0-rmse:607.89371\n",
            "[23]\tvalidation_0-rmse:604.75843\n",
            "[24]\tvalidation_0-rmse:602.48516\n",
            "[25]\tvalidation_0-rmse:599.96402\n",
            "[26]\tvalidation_0-rmse:600.13168\n",
            "[27]\tvalidation_0-rmse:599.49497\n",
            "[28]\tvalidation_0-rmse:596.64100\n",
            "[29]\tvalidation_0-rmse:595.28317\n",
            "[30]\tvalidation_0-rmse:593.84536\n",
            "[31]\tvalidation_0-rmse:592.94034\n",
            "[32]\tvalidation_0-rmse:591.35779\n",
            "[33]\tvalidation_0-rmse:591.24629\n",
            "[34]\tvalidation_0-rmse:590.12672\n",
            "[35]\tvalidation_0-rmse:589.91291\n",
            "[36]\tvalidation_0-rmse:588.90621\n",
            "[37]\tvalidation_0-rmse:587.93099\n",
            "[38]\tvalidation_0-rmse:587.88651\n",
            "[39]\tvalidation_0-rmse:587.46682\n",
            "[40]\tvalidation_0-rmse:585.97592\n",
            "[41]\tvalidation_0-rmse:586.11219\n",
            "[42]\tvalidation_0-rmse:584.23132\n",
            "[43]\tvalidation_0-rmse:583.66100\n",
            "[44]\tvalidation_0-rmse:583.46693\n",
            "[45]\tvalidation_0-rmse:583.21578\n",
            "[46]\tvalidation_0-rmse:582.85746\n",
            "[47]\tvalidation_0-rmse:582.40174\n",
            "[48]\tvalidation_0-rmse:580.81364\n",
            "[49]\tvalidation_0-rmse:579.98441\n",
            "[50]\tvalidation_0-rmse:579.47280\n",
            "[51]\tvalidation_0-rmse:579.49911\n"
          ]
        },
        {
          "name": "stderr",
          "output_type": "stream",
          "text": [
            "[12:14:10] WARNING: /workspace/src/common/error_msg.cc:27: The tree method `gpu_hist` is deprecated since 2.0.0. To use GPU training, set the `device` parameter to CUDA instead.\n",
            "\n",
            "    E.g. tree_method = \"hist\", device = \"cuda\"\n",
            "\n"
          ]
        },
        {
          "name": "stdout",
          "output_type": "stream",
          "text": [
            "[52]\tvalidation_0-rmse:578.92221\n",
            "[53]\tvalidation_0-rmse:578.63707\n",
            "[54]\tvalidation_0-rmse:578.41480\n",
            "[55]\tvalidation_0-rmse:578.28172\n",
            "[56]\tvalidation_0-rmse:578.19322\n",
            "[57]\tvalidation_0-rmse:577.45511\n",
            "[58]\tvalidation_0-rmse:577.39882\n",
            "[59]\tvalidation_0-rmse:576.74568\n",
            "[60]\tvalidation_0-rmse:576.37303\n",
            "[61]\tvalidation_0-rmse:575.86482\n",
            "[62]\tvalidation_0-rmse:575.72397\n",
            "[63]\tvalidation_0-rmse:574.92497\n",
            "[64]\tvalidation_0-rmse:575.68366\n",
            "[65]\tvalidation_0-rmse:575.37655\n",
            "[66]\tvalidation_0-rmse:575.28151\n",
            "[67]\tvalidation_0-rmse:575.78958\n",
            "[68]\tvalidation_0-rmse:575.49278\n",
            "[69]\tvalidation_0-rmse:575.26060\n",
            "[70]\tvalidation_0-rmse:575.18344\n",
            "[71]\tvalidation_0-rmse:574.54344\n",
            "[72]\tvalidation_0-rmse:574.62888\n",
            "[73]\tvalidation_0-rmse:573.86717\n",
            "[74]\tvalidation_0-rmse:574.14901\n",
            "[75]\tvalidation_0-rmse:573.85271\n",
            "[76]\tvalidation_0-rmse:573.59441\n",
            "[77]\tvalidation_0-rmse:573.51430\n",
            "[78]\tvalidation_0-rmse:573.32951\n",
            "[79]\tvalidation_0-rmse:572.82165\n",
            "[80]\tvalidation_0-rmse:572.50887\n",
            "[81]\tvalidation_0-rmse:571.66944\n",
            "[82]\tvalidation_0-rmse:571.86216\n",
            "[83]\tvalidation_0-rmse:571.84654\n",
            "[84]\tvalidation_0-rmse:571.49431\n",
            "[85]\tvalidation_0-rmse:570.87400\n",
            "[86]\tvalidation_0-rmse:570.63611\n",
            "[87]\tvalidation_0-rmse:570.28506\n",
            "[88]\tvalidation_0-rmse:570.23348\n",
            "[89]\tvalidation_0-rmse:570.09844\n",
            "[90]\tvalidation_0-rmse:569.69802\n",
            "[91]\tvalidation_0-rmse:569.28761\n",
            "[92]\tvalidation_0-rmse:569.04023\n",
            "[93]\tvalidation_0-rmse:569.03369\n",
            "[94]\tvalidation_0-rmse:568.73913\n",
            "[95]\tvalidation_0-rmse:568.09356\n",
            "[96]\tvalidation_0-rmse:568.40134\n",
            "[97]\tvalidation_0-rmse:568.38638\n",
            "[98]\tvalidation_0-rmse:568.33955\n",
            "[99]\tvalidation_0-rmse:567.88646\n",
            "[100]\tvalidation_0-rmse:567.56028\n",
            "[101]\tvalidation_0-rmse:567.03455\n",
            "[102]\tvalidation_0-rmse:566.93433\n",
            "[103]\tvalidation_0-rmse:567.02271\n",
            "[104]\tvalidation_0-rmse:566.99837\n",
            "[105]\tvalidation_0-rmse:566.98224\n",
            "[106]\tvalidation_0-rmse:566.63506\n",
            "[107]\tvalidation_0-rmse:566.53684\n",
            "[108]\tvalidation_0-rmse:566.15035\n",
            "[109]\tvalidation_0-rmse:565.97350\n",
            "[110]\tvalidation_0-rmse:566.35116\n",
            "[111]\tvalidation_0-rmse:566.40936\n",
            "[112]\tvalidation_0-rmse:566.46530\n",
            "[113]\tvalidation_0-rmse:566.16185\n",
            "[114]\tvalidation_0-rmse:565.93498\n",
            "[115]\tvalidation_0-rmse:565.30303\n",
            "[116]\tvalidation_0-rmse:565.22075\n",
            "[117]\tvalidation_0-rmse:564.94910\n",
            "[118]\tvalidation_0-rmse:564.88332\n",
            "[119]\tvalidation_0-rmse:565.04432\n",
            "[120]\tvalidation_0-rmse:564.99604\n",
            "[121]\tvalidation_0-rmse:564.69103\n",
            "[122]\tvalidation_0-rmse:564.96089\n",
            "[123]\tvalidation_0-rmse:564.73455\n",
            "[124]\tvalidation_0-rmse:564.76138\n",
            "[125]\tvalidation_0-rmse:564.79319\n",
            "[126]\tvalidation_0-rmse:564.74773\n",
            "[127]\tvalidation_0-rmse:564.74784\n",
            "[128]\tvalidation_0-rmse:564.65797\n",
            "[129]\tvalidation_0-rmse:564.21014\n",
            "[130]\tvalidation_0-rmse:564.24984\n",
            "[131]\tvalidation_0-rmse:563.95306\n",
            "[132]\tvalidation_0-rmse:563.54378\n",
            "[133]\tvalidation_0-rmse:563.60299\n",
            "[134]\tvalidation_0-rmse:563.94504\n",
            "[135]\tvalidation_0-rmse:563.46683\n",
            "[136]\tvalidation_0-rmse:563.81631\n",
            "[137]\tvalidation_0-rmse:563.83076\n",
            "[138]\tvalidation_0-rmse:563.39637\n",
            "[139]\tvalidation_0-rmse:563.47444\n",
            "[140]\tvalidation_0-rmse:563.10644\n",
            "[141]\tvalidation_0-rmse:562.97177\n",
            "[142]\tvalidation_0-rmse:563.21720\n",
            "[143]\tvalidation_0-rmse:563.01982\n",
            "[144]\tvalidation_0-rmse:563.13876\n",
            "[145]\tvalidation_0-rmse:563.28324\n",
            "[146]\tvalidation_0-rmse:563.02380\n",
            "[147]\tvalidation_0-rmse:562.95244\n",
            "[148]\tvalidation_0-rmse:563.00657\n",
            "[149]\tvalidation_0-rmse:562.88223\n",
            "[150]\tvalidation_0-rmse:563.20552\n",
            "[151]\tvalidation_0-rmse:562.87876\n",
            "[152]\tvalidation_0-rmse:562.69597\n",
            "[153]\tvalidation_0-rmse:562.69551\n",
            "[154]\tvalidation_0-rmse:562.29760\n",
            "[155]\tvalidation_0-rmse:562.53501\n",
            "[156]\tvalidation_0-rmse:562.19751\n",
            "[157]\tvalidation_0-rmse:562.50892\n",
            "[158]\tvalidation_0-rmse:562.25196\n",
            "[159]\tvalidation_0-rmse:562.27349\n",
            "[160]\tvalidation_0-rmse:562.26231\n",
            "[161]\tvalidation_0-rmse:562.59918\n",
            "[162]\tvalidation_0-rmse:562.45641\n",
            "[163]\tvalidation_0-rmse:562.37844\n",
            "[164]\tvalidation_0-rmse:562.45958\n",
            "[165]\tvalidation_0-rmse:562.28804\n",
            "[166]\tvalidation_0-rmse:562.47891\n"
          ]
        },
        {
          "data": {
            "text/html": [
              "<style>\n",
              "    table.wandb td:nth-child(1) { padding: 0 10px; text-align: left ; width: auto;} td:nth-child(2) {text-align: left ; width: 100%}\n",
              "    .wandb-row { display: flex; flex-direction: row; flex-wrap: wrap; justify-content: flex-start; width: 100% }\n",
              "    .wandb-col { display: flex; flex-direction: column; flex-basis: 100%; flex: 1; padding: 10px; }\n",
              "    </style>\n",
              "<div class=\"wandb-row\"><div class=\"wandb-col\"><h3>Run history:</h3><br/><table class=\"wandb\"><tr><td>best_iteration</td><td>▁</td></tr><tr><td>best_score</td><td>▁</td></tr><tr><td>epoch</td><td>▁▁▁▂▂▂▂▂▂▃▃▃▃▃▃▄▄▄▄▄▅▅▅▅▅▅▆▆▆▆▆▇▇▇▇▇▇███</td></tr><tr><td>validation_0-rmse</td><td>█▃▂▁▁▁▁▁▁▁▁▁▁▁▁▁▁▁▁▁▁▁▁▁▁▁▁▁▁▁▁▁▁▁▁▁▁▁▁▁</td></tr></table><br/></div><div class=\"wandb-col\"><h3>Run summary:</h3><br/><table class=\"wandb\"><tr><td>best_iteration</td><td>156</td></tr><tr><td>best_score</td><td>562.19751</td></tr><tr><td>epoch</td><td>165</td></tr></table><br/></div></div>"
            ],
            "text/plain": [
              "<IPython.core.display.HTML object>"
            ]
          },
          "metadata": {},
          "output_type": "display_data"
        },
        {
          "data": {
            "text/html": [
              " View run <strong style=\"color:#cdcd00\">morning-sweep-1</strong> at: <a href='https://wandb.ai/jameszampanu/diamond_prices/runs/ot9v5w9y' target=\"_blank\">https://wandb.ai/jameszampanu/diamond_prices/runs/ot9v5w9y</a><br/> View project at: <a href='https://wandb.ai/jameszampanu/diamond_prices' target=\"_blank\">https://wandb.ai/jameszampanu/diamond_prices</a><br/>Synced 6 W&B file(s), 1 media file(s), 1 artifact file(s) and 0 other file(s)"
            ],
            "text/plain": [
              "<IPython.core.display.HTML object>"
            ]
          },
          "metadata": {},
          "output_type": "display_data"
        },
        {
          "data": {
            "text/html": [
              "Find logs at: <code>./wandb/run-20240420_121406-ot9v5w9y/logs</code>"
            ],
            "text/plain": [
              "<IPython.core.display.HTML object>"
            ]
          },
          "metadata": {},
          "output_type": "display_data"
        },
        {
          "name": "stderr",
          "output_type": "stream",
          "text": [
            "\u001b[34m\u001b[1mwandb\u001b[0m: Agent Starting Run: tsuf92b2 with config:\n",
            "\u001b[34m\u001b[1mwandb\u001b[0m: \tearly_stopping_rounds: 10\n",
            "\u001b[34m\u001b[1mwandb\u001b[0m: \tgamma: 0.36626434288792226\n",
            "\u001b[34m\u001b[1mwandb\u001b[0m: \tlearning_rate: 0.3597762908830695\n",
            "\u001b[34m\u001b[1mwandb\u001b[0m: \tmin_child_weight: 33\n",
            "\u001b[34m\u001b[1mwandb\u001b[0m: \tn_estimators: 350\n",
            "Failed to detect the name of this notebook, you can set it manually with the WANDB_NOTEBOOK_NAME environment variable to enable code saving.\n"
          ]
        },
        {
          "data": {
            "text/html": [
              "Tracking run with wandb version 0.16.6"
            ],
            "text/plain": [
              "<IPython.core.display.HTML object>"
            ]
          },
          "metadata": {},
          "output_type": "display_data"
        },
        {
          "data": {
            "text/html": [
              "Run data is saved locally in <code>/home/james/Projects/MSAI_490_WB_Assignment/wandb/run-20240420_121421-tsuf92b2</code>"
            ],
            "text/plain": [
              "<IPython.core.display.HTML object>"
            ]
          },
          "metadata": {},
          "output_type": "display_data"
        },
        {
          "data": {
            "text/html": [
              "Syncing run <strong><a href='https://wandb.ai/jameszampanu/diamond_prices/runs/tsuf92b2' target=\"_blank\">happy-sweep-2</a></strong> to <a href='https://wandb.ai/jameszampanu/diamond_prices' target=\"_blank\">Weights & Biases</a> (<a href='https://wandb.me/run' target=\"_blank\">docs</a>)<br/>Sweep page: <a href='https://wandb.ai/jameszampanu/diamond_prices/sweeps/27ja3kk1' target=\"_blank\">https://wandb.ai/jameszampanu/diamond_prices/sweeps/27ja3kk1</a>"
            ],
            "text/plain": [
              "<IPython.core.display.HTML object>"
            ]
          },
          "metadata": {},
          "output_type": "display_data"
        },
        {
          "data": {
            "text/html": [
              " View project at <a href='https://wandb.ai/jameszampanu/diamond_prices' target=\"_blank\">https://wandb.ai/jameszampanu/diamond_prices</a>"
            ],
            "text/plain": [
              "<IPython.core.display.HTML object>"
            ]
          },
          "metadata": {},
          "output_type": "display_data"
        },
        {
          "data": {
            "text/html": [
              " View sweep at <a href='https://wandb.ai/jameszampanu/diamond_prices/sweeps/27ja3kk1' target=\"_blank\">https://wandb.ai/jameszampanu/diamond_prices/sweeps/27ja3kk1</a>"
            ],
            "text/plain": [
              "<IPython.core.display.HTML object>"
            ]
          },
          "metadata": {},
          "output_type": "display_data"
        },
        {
          "data": {
            "text/html": [
              " View run at <a href='https://wandb.ai/jameszampanu/diamond_prices/runs/tsuf92b2' target=\"_blank\">https://wandb.ai/jameszampanu/diamond_prices/runs/tsuf92b2</a>"
            ],
            "text/plain": [
              "<IPython.core.display.HTML object>"
            ]
          },
          "metadata": {},
          "output_type": "display_data"
        },
        {
          "name": "stdout",
          "output_type": "stream",
          "text": [
            "[0]\tvalidation_0-rmse:2678.02784\n",
            "[1]\tvalidation_0-rmse:1865.02843\n",
            "[2]\tvalidation_0-rmse:1373.38919\n",
            "[3]\tvalidation_0-rmse:1079.51902\n",
            "[4]\tvalidation_0-rmse:905.62307\n",
            "[5]\tvalidation_0-rmse:801.88023\n",
            "[6]\tvalidation_0-rmse:742.50531\n",
            "[7]\tvalidation_0-rmse:706.58029\n",
            "[8]\tvalidation_0-rmse:682.87721\n",
            "[9]\tvalidation_0-rmse:664.64798\n",
            "[10]\tvalidation_0-rmse:652.65879\n",
            "[11]\tvalidation_0-rmse:636.55668\n",
            "[12]\tvalidation_0-rmse:621.49313\n",
            "[13]\tvalidation_0-rmse:615.22276\n",
            "[14]\tvalidation_0-rmse:609.09642\n",
            "[15]\tvalidation_0-rmse:605.09832\n",
            "[16]\tvalidation_0-rmse:602.93750\n",
            "[17]\tvalidation_0-rmse:598.36243\n",
            "[18]\tvalidation_0-rmse:592.42375\n",
            "[19]\tvalidation_0-rmse:590.28141\n",
            "[20]\tvalidation_0-rmse:588.29989\n",
            "[21]\tvalidation_0-rmse:587.22085\n"
          ]
        },
        {
          "name": "stderr",
          "output_type": "stream",
          "text": [
            "[12:14:26] WARNING: /workspace/src/common/error_msg.cc:27: The tree method `gpu_hist` is deprecated since 2.0.0. To use GPU training, set the `device` parameter to CUDA instead.\n",
            "\n",
            "    E.g. tree_method = \"hist\", device = \"cuda\"\n",
            "\n"
          ]
        },
        {
          "name": "stdout",
          "output_type": "stream",
          "text": [
            "[22]\tvalidation_0-rmse:587.55702\n",
            "[23]\tvalidation_0-rmse:586.99541\n",
            "[24]\tvalidation_0-rmse:584.83036\n",
            "[25]\tvalidation_0-rmse:580.82010\n",
            "[26]\tvalidation_0-rmse:580.82073\n",
            "[27]\tvalidation_0-rmse:580.49151\n",
            "[28]\tvalidation_0-rmse:580.21414\n",
            "[29]\tvalidation_0-rmse:578.38069\n",
            "[30]\tvalidation_0-rmse:577.21406\n",
            "[31]\tvalidation_0-rmse:576.79717\n",
            "[32]\tvalidation_0-rmse:575.08706\n",
            "[33]\tvalidation_0-rmse:574.36835\n",
            "[34]\tvalidation_0-rmse:574.46924\n",
            "[35]\tvalidation_0-rmse:573.57261\n",
            "[36]\tvalidation_0-rmse:572.89463\n",
            "[37]\tvalidation_0-rmse:569.29573\n",
            "[38]\tvalidation_0-rmse:568.77469\n",
            "[39]\tvalidation_0-rmse:568.63510\n",
            "[40]\tvalidation_0-rmse:568.59151\n",
            "[41]\tvalidation_0-rmse:568.39195\n",
            "[42]\tvalidation_0-rmse:568.96610\n",
            "[43]\tvalidation_0-rmse:569.57999\n",
            "[44]\tvalidation_0-rmse:569.26319\n",
            "[45]\tvalidation_0-rmse:567.74899\n",
            "[46]\tvalidation_0-rmse:567.20921\n",
            "[47]\tvalidation_0-rmse:566.93758\n",
            "[48]\tvalidation_0-rmse:567.11542\n",
            "[49]\tvalidation_0-rmse:567.43605\n",
            "[50]\tvalidation_0-rmse:567.45527\n",
            "[51]\tvalidation_0-rmse:567.08903\n",
            "[52]\tvalidation_0-rmse:565.42804\n",
            "[53]\tvalidation_0-rmse:565.87085\n",
            "[54]\tvalidation_0-rmse:565.80724\n",
            "[55]\tvalidation_0-rmse:565.39994\n",
            "[56]\tvalidation_0-rmse:564.95126\n",
            "[57]\tvalidation_0-rmse:565.36463\n",
            "[58]\tvalidation_0-rmse:565.23584\n",
            "[59]\tvalidation_0-rmse:563.70253\n",
            "[60]\tvalidation_0-rmse:563.57412\n",
            "[61]\tvalidation_0-rmse:563.46544\n",
            "[62]\tvalidation_0-rmse:563.20330\n",
            "[63]\tvalidation_0-rmse:562.77755\n",
            "[64]\tvalidation_0-rmse:562.50591\n",
            "[65]\tvalidation_0-rmse:562.02463\n",
            "[66]\tvalidation_0-rmse:562.57843\n",
            "[67]\tvalidation_0-rmse:562.35591\n",
            "[68]\tvalidation_0-rmse:562.77020\n",
            "[69]\tvalidation_0-rmse:562.54513\n",
            "[70]\tvalidation_0-rmse:561.82881\n",
            "[71]\tvalidation_0-rmse:561.85468\n",
            "[72]\tvalidation_0-rmse:561.66191\n",
            "[73]\tvalidation_0-rmse:561.19708\n",
            "[74]\tvalidation_0-rmse:560.94194\n",
            "[75]\tvalidation_0-rmse:560.57470\n",
            "[76]\tvalidation_0-rmse:560.51743\n",
            "[77]\tvalidation_0-rmse:560.33223\n",
            "[78]\tvalidation_0-rmse:560.25840\n",
            "[79]\tvalidation_0-rmse:560.55367\n",
            "[80]\tvalidation_0-rmse:560.47807\n",
            "[81]\tvalidation_0-rmse:560.42597\n",
            "[82]\tvalidation_0-rmse:560.37812\n",
            "[83]\tvalidation_0-rmse:560.49543\n",
            "[84]\tvalidation_0-rmse:560.40025\n",
            "[85]\tvalidation_0-rmse:560.39598\n",
            "[86]\tvalidation_0-rmse:560.10279\n",
            "[87]\tvalidation_0-rmse:559.97351\n",
            "[88]\tvalidation_0-rmse:559.44151\n",
            "[89]\tvalidation_0-rmse:559.35229\n",
            "[90]\tvalidation_0-rmse:559.10561\n",
            "[91]\tvalidation_0-rmse:559.10970\n",
            "[92]\tvalidation_0-rmse:559.19193\n",
            "[93]\tvalidation_0-rmse:558.71479\n",
            "[94]\tvalidation_0-rmse:558.66659\n",
            "[95]\tvalidation_0-rmse:558.59063\n",
            "[96]\tvalidation_0-rmse:558.63120\n",
            "[97]\tvalidation_0-rmse:558.18323\n",
            "[98]\tvalidation_0-rmse:558.13431\n",
            "[99]\tvalidation_0-rmse:558.63830\n",
            "[100]\tvalidation_0-rmse:558.69770\n",
            "[101]\tvalidation_0-rmse:559.09383\n",
            "[102]\tvalidation_0-rmse:559.01763\n",
            "[103]\tvalidation_0-rmse:558.75735\n",
            "[104]\tvalidation_0-rmse:558.72040\n",
            "[105]\tvalidation_0-rmse:558.51435\n",
            "[106]\tvalidation_0-rmse:558.48569\n",
            "[107]\tvalidation_0-rmse:558.50277\n",
            "[108]\tvalidation_0-rmse:558.25458\n"
          ]
        },
        {
          "data": {
            "text/html": [
              "<style>\n",
              "    table.wandb td:nth-child(1) { padding: 0 10px; text-align: left ; width: auto;} td:nth-child(2) {text-align: left ; width: 100%}\n",
              "    .wandb-row { display: flex; flex-direction: row; flex-wrap: wrap; justify-content: flex-start; width: 100% }\n",
              "    .wandb-col { display: flex; flex-direction: column; flex-basis: 100%; flex: 1; padding: 10px; }\n",
              "    </style>\n",
              "<div class=\"wandb-row\"><div class=\"wandb-col\"><h3>Run history:</h3><br/><table class=\"wandb\"><tr><td>best_iteration</td><td>▁</td></tr><tr><td>best_score</td><td>▁</td></tr><tr><td>epoch</td><td>▁▁▁▂▂▂▂▂▂▃▃▃▃▃▃▄▄▄▄▄▅▅▅▅▅▅▆▆▆▆▆▇▇▇▇▇▇███</td></tr><tr><td>validation_0-rmse</td><td>█▄▂▁▁▁▁▁▁▁▁▁▁▁▁▁▁▁▁▁▁▁▁▁▁▁▁▁▁▁▁▁▁▁▁▁▁▁▁▁</td></tr></table><br/></div><div class=\"wandb-col\"><h3>Run summary:</h3><br/><table class=\"wandb\"><tr><td>best_iteration</td><td>98</td></tr><tr><td>best_score</td><td>558.13431</td></tr><tr><td>epoch</td><td>108</td></tr></table><br/></div></div>"
            ],
            "text/plain": [
              "<IPython.core.display.HTML object>"
            ]
          },
          "metadata": {},
          "output_type": "display_data"
        },
        {
          "data": {
            "text/html": [
              " View run <strong style=\"color:#cdcd00\">happy-sweep-2</strong> at: <a href='https://wandb.ai/jameszampanu/diamond_prices/runs/tsuf92b2' target=\"_blank\">https://wandb.ai/jameszampanu/diamond_prices/runs/tsuf92b2</a><br/> View project at: <a href='https://wandb.ai/jameszampanu/diamond_prices' target=\"_blank\">https://wandb.ai/jameszampanu/diamond_prices</a><br/>Synced 6 W&B file(s), 1 media file(s), 1 artifact file(s) and 0 other file(s)"
            ],
            "text/plain": [
              "<IPython.core.display.HTML object>"
            ]
          },
          "metadata": {},
          "output_type": "display_data"
        },
        {
          "data": {
            "text/html": [
              "Find logs at: <code>./wandb/run-20240420_121421-tsuf92b2/logs</code>"
            ],
            "text/plain": [
              "<IPython.core.display.HTML object>"
            ]
          },
          "metadata": {},
          "output_type": "display_data"
        },
        {
          "name": "stderr",
          "output_type": "stream",
          "text": [
            "\u001b[34m\u001b[1mwandb\u001b[0m: Agent Starting Run: 588jzecq with config:\n",
            "\u001b[34m\u001b[1mwandb\u001b[0m: \tearly_stopping_rounds: 10\n",
            "\u001b[34m\u001b[1mwandb\u001b[0m: \tgamma: 0.3531534008190408\n",
            "\u001b[34m\u001b[1mwandb\u001b[0m: \tlearning_rate: 0.6253349124682612\n",
            "\u001b[34m\u001b[1mwandb\u001b[0m: \tmin_child_weight: 84\n",
            "\u001b[34m\u001b[1mwandb\u001b[0m: \tn_estimators: 754\n",
            "Failed to detect the name of this notebook, you can set it manually with the WANDB_NOTEBOOK_NAME environment variable to enable code saving.\n"
          ]
        },
        {
          "data": {
            "text/html": [
              "Tracking run with wandb version 0.16.6"
            ],
            "text/plain": [
              "<IPython.core.display.HTML object>"
            ]
          },
          "metadata": {},
          "output_type": "display_data"
        },
        {
          "data": {
            "text/html": [
              "Run data is saved locally in <code>/home/james/Projects/MSAI_490_WB_Assignment/wandb/run-20240420_121437-588jzecq</code>"
            ],
            "text/plain": [
              "<IPython.core.display.HTML object>"
            ]
          },
          "metadata": {},
          "output_type": "display_data"
        },
        {
          "data": {
            "text/html": [
              "Syncing run <strong><a href='https://wandb.ai/jameszampanu/diamond_prices/runs/588jzecq' target=\"_blank\">valiant-sweep-3</a></strong> to <a href='https://wandb.ai/jameszampanu/diamond_prices' target=\"_blank\">Weights & Biases</a> (<a href='https://wandb.me/run' target=\"_blank\">docs</a>)<br/>Sweep page: <a href='https://wandb.ai/jameszampanu/diamond_prices/sweeps/27ja3kk1' target=\"_blank\">https://wandb.ai/jameszampanu/diamond_prices/sweeps/27ja3kk1</a>"
            ],
            "text/plain": [
              "<IPython.core.display.HTML object>"
            ]
          },
          "metadata": {},
          "output_type": "display_data"
        },
        {
          "data": {
            "text/html": [
              " View project at <a href='https://wandb.ai/jameszampanu/diamond_prices' target=\"_blank\">https://wandb.ai/jameszampanu/diamond_prices</a>"
            ],
            "text/plain": [
              "<IPython.core.display.HTML object>"
            ]
          },
          "metadata": {},
          "output_type": "display_data"
        },
        {
          "data": {
            "text/html": [
              " View sweep at <a href='https://wandb.ai/jameszampanu/diamond_prices/sweeps/27ja3kk1' target=\"_blank\">https://wandb.ai/jameszampanu/diamond_prices/sweeps/27ja3kk1</a>"
            ],
            "text/plain": [
              "<IPython.core.display.HTML object>"
            ]
          },
          "metadata": {},
          "output_type": "display_data"
        },
        {
          "data": {
            "text/html": [
              " View run at <a href='https://wandb.ai/jameszampanu/diamond_prices/runs/588jzecq' target=\"_blank\">https://wandb.ai/jameszampanu/diamond_prices/runs/588jzecq</a>"
            ],
            "text/plain": [
              "<IPython.core.display.HTML object>"
            ]
          },
          "metadata": {},
          "output_type": "display_data"
        },
        {
          "name": "stdout",
          "output_type": "stream",
          "text": [
            "[0]\tvalidation_0-rmse:1810.65272\n",
            "[1]\tvalidation_0-rmse:1086.88793\n",
            "[2]\tvalidation_0-rmse:883.44717\n",
            "[3]\tvalidation_0-rmse:785.91921\n",
            "[4]\tvalidation_0-rmse:751.07099\n",
            "[5]\tvalidation_0-rmse:725.17813\n",
            "[6]\tvalidation_0-rmse:712.80923\n",
            "[7]\tvalidation_0-rmse:693.49659\n",
            "[8]\tvalidation_0-rmse:683.42279\n",
            "[9]\tvalidation_0-rmse:674.21411\n",
            "[10]\tvalidation_0-rmse:668.90910\n",
            "[11]\tvalidation_0-rmse:658.89910\n",
            "[12]\tvalidation_0-rmse:650.89803\n",
            "[13]\tvalidation_0-rmse:645.96325\n",
            "[14]\tvalidation_0-rmse:644.73409\n",
            "[15]\tvalidation_0-rmse:637.32291\n",
            "[16]\tvalidation_0-rmse:635.87031\n",
            "[17]\tvalidation_0-rmse:633.61198\n",
            "[18]\tvalidation_0-rmse:631.70310\n",
            "[19]\tvalidation_0-rmse:630.02195\n",
            "[20]\tvalidation_0-rmse:626.92611\n",
            "[21]\tvalidation_0-rmse:625.15846\n",
            "[22]\tvalidation_0-rmse:621.81104\n",
            "[23]\tvalidation_0-rmse:622.96443\n",
            "[24]\tvalidation_0-rmse:621.01298\n",
            "[25]\tvalidation_0-rmse:622.16965\n",
            "[26]\tvalidation_0-rmse:621.65443\n",
            "[27]\tvalidation_0-rmse:621.23458\n",
            "[28]\tvalidation_0-rmse:621.68146\n",
            "[29]\tvalidation_0-rmse:619.91920\n",
            "[30]\tvalidation_0-rmse:618.83810\n",
            "[31]\tvalidation_0-rmse:617.05381\n",
            "[32]\tvalidation_0-rmse:616.57231\n",
            "[33]\tvalidation_0-rmse:616.98018\n"
          ]
        },
        {
          "name": "stderr",
          "output_type": "stream",
          "text": [
            "[12:14:41] WARNING: /workspace/src/common/error_msg.cc:27: The tree method `gpu_hist` is deprecated since 2.0.0. To use GPU training, set the `device` parameter to CUDA instead.\n",
            "\n",
            "    E.g. tree_method = \"hist\", device = \"cuda\"\n",
            "\n"
          ]
        },
        {
          "name": "stdout",
          "output_type": "stream",
          "text": [
            "[34]\tvalidation_0-rmse:615.89014\n",
            "[35]\tvalidation_0-rmse:614.05521\n",
            "[36]\tvalidation_0-rmse:610.58354\n",
            "[37]\tvalidation_0-rmse:608.73565\n",
            "[38]\tvalidation_0-rmse:607.65362\n",
            "[39]\tvalidation_0-rmse:605.13041\n",
            "[40]\tvalidation_0-rmse:604.39948\n",
            "[41]\tvalidation_0-rmse:604.02348\n",
            "[42]\tvalidation_0-rmse:606.17728\n",
            "[43]\tvalidation_0-rmse:606.46719\n",
            "[44]\tvalidation_0-rmse:604.52116\n",
            "[45]\tvalidation_0-rmse:603.80238\n",
            "[46]\tvalidation_0-rmse:604.30188\n",
            "[47]\tvalidation_0-rmse:602.93113\n",
            "[48]\tvalidation_0-rmse:602.78766\n",
            "[49]\tvalidation_0-rmse:602.31384\n",
            "[50]\tvalidation_0-rmse:600.48145\n",
            "[51]\tvalidation_0-rmse:598.93658\n",
            "[52]\tvalidation_0-rmse:597.28852\n",
            "[53]\tvalidation_0-rmse:598.80501\n",
            "[54]\tvalidation_0-rmse:598.67301\n",
            "[55]\tvalidation_0-rmse:597.91385\n",
            "[56]\tvalidation_0-rmse:597.64600\n",
            "[57]\tvalidation_0-rmse:596.76327\n",
            "[58]\tvalidation_0-rmse:596.92617\n",
            "[59]\tvalidation_0-rmse:596.21730\n",
            "[60]\tvalidation_0-rmse:594.60539\n",
            "[61]\tvalidation_0-rmse:593.76128\n",
            "[62]\tvalidation_0-rmse:593.51020\n",
            "[63]\tvalidation_0-rmse:593.18996\n",
            "[64]\tvalidation_0-rmse:590.56811\n",
            "[65]\tvalidation_0-rmse:589.76585\n",
            "[66]\tvalidation_0-rmse:589.24711\n",
            "[67]\tvalidation_0-rmse:588.89851\n",
            "[68]\tvalidation_0-rmse:589.27493\n",
            "[69]\tvalidation_0-rmse:590.39335\n",
            "[70]\tvalidation_0-rmse:589.97384\n",
            "[71]\tvalidation_0-rmse:590.05290\n",
            "[72]\tvalidation_0-rmse:590.11395\n",
            "[73]\tvalidation_0-rmse:589.78753\n",
            "[74]\tvalidation_0-rmse:590.08715\n",
            "[75]\tvalidation_0-rmse:590.13060\n",
            "[76]\tvalidation_0-rmse:590.33331\n"
          ]
        },
        {
          "data": {
            "text/html": [
              "<style>\n",
              "    table.wandb td:nth-child(1) { padding: 0 10px; text-align: left ; width: auto;} td:nth-child(2) {text-align: left ; width: 100%}\n",
              "    .wandb-row { display: flex; flex-direction: row; flex-wrap: wrap; justify-content: flex-start; width: 100% }\n",
              "    .wandb-col { display: flex; flex-direction: column; flex-basis: 100%; flex: 1; padding: 10px; }\n",
              "    </style>\n",
              "<div class=\"wandb-row\"><div class=\"wandb-col\"><h3>Run history:</h3><br/><table class=\"wandb\"><tr><td>best_iteration</td><td>▁</td></tr><tr><td>best_score</td><td>▁</td></tr><tr><td>epoch</td><td>▁▁▁▁▂▂▂▂▂▃▃▃▃▃▃▄▄▄▄▄▅▅▅▅▅▅▆▆▆▆▆▇▇▇▇▇▇███</td></tr><tr><td>validation_0-rmse</td><td>█▄▂▂▂▁▁▁▁▁▁▁▁▁▁▁▁▁▁▁▁▁▁▁▁▁▁▁▁▁▁▁▁▁▁▁▁▁▁▁</td></tr></table><br/></div><div class=\"wandb-col\"><h3>Run summary:</h3><br/><table class=\"wandb\"><tr><td>best_iteration</td><td>67</td></tr><tr><td>best_score</td><td>588.89851</td></tr><tr><td>epoch</td><td>76</td></tr></table><br/></div></div>"
            ],
            "text/plain": [
              "<IPython.core.display.HTML object>"
            ]
          },
          "metadata": {},
          "output_type": "display_data"
        },
        {
          "data": {
            "text/html": [
              " View run <strong style=\"color:#cdcd00\">valiant-sweep-3</strong> at: <a href='https://wandb.ai/jameszampanu/diamond_prices/runs/588jzecq' target=\"_blank\">https://wandb.ai/jameszampanu/diamond_prices/runs/588jzecq</a><br/> View project at: <a href='https://wandb.ai/jameszampanu/diamond_prices' target=\"_blank\">https://wandb.ai/jameszampanu/diamond_prices</a><br/>Synced 6 W&B file(s), 1 media file(s), 1 artifact file(s) and 0 other file(s)"
            ],
            "text/plain": [
              "<IPython.core.display.HTML object>"
            ]
          },
          "metadata": {},
          "output_type": "display_data"
        },
        {
          "data": {
            "text/html": [
              "Find logs at: <code>./wandb/run-20240420_121437-588jzecq/logs</code>"
            ],
            "text/plain": [
              "<IPython.core.display.HTML object>"
            ]
          },
          "metadata": {},
          "output_type": "display_data"
        },
        {
          "name": "stderr",
          "output_type": "stream",
          "text": [
            "\u001b[34m\u001b[1mwandb\u001b[0m: Agent Starting Run: 0eu6xb5t with config:\n",
            "\u001b[34m\u001b[1mwandb\u001b[0m: \tearly_stopping_rounds: 30\n",
            "\u001b[34m\u001b[1mwandb\u001b[0m: \tgamma: 0.4509283241426671\n",
            "\u001b[34m\u001b[1mwandb\u001b[0m: \tlearning_rate: 0.5060970490534429\n",
            "\u001b[34m\u001b[1mwandb\u001b[0m: \tmin_child_weight: 1\n",
            "\u001b[34m\u001b[1mwandb\u001b[0m: \tn_estimators: 198\n",
            "Failed to detect the name of this notebook, you can set it manually with the WANDB_NOTEBOOK_NAME environment variable to enable code saving.\n"
          ]
        },
        {
          "data": {
            "text/html": [
              "Tracking run with wandb version 0.16.6"
            ],
            "text/plain": [
              "<IPython.core.display.HTML object>"
            ]
          },
          "metadata": {},
          "output_type": "display_data"
        },
        {
          "data": {
            "text/html": [
              "Run data is saved locally in <code>/home/james/Projects/MSAI_490_WB_Assignment/wandb/run-20240420_121452-0eu6xb5t</code>"
            ],
            "text/plain": [
              "<IPython.core.display.HTML object>"
            ]
          },
          "metadata": {},
          "output_type": "display_data"
        },
        {
          "data": {
            "text/html": [
              "Syncing run <strong><a href='https://wandb.ai/jameszampanu/diamond_prices/runs/0eu6xb5t' target=\"_blank\">resilient-sweep-4</a></strong> to <a href='https://wandb.ai/jameszampanu/diamond_prices' target=\"_blank\">Weights & Biases</a> (<a href='https://wandb.me/run' target=\"_blank\">docs</a>)<br/>Sweep page: <a href='https://wandb.ai/jameszampanu/diamond_prices/sweeps/27ja3kk1' target=\"_blank\">https://wandb.ai/jameszampanu/diamond_prices/sweeps/27ja3kk1</a>"
            ],
            "text/plain": [
              "<IPython.core.display.HTML object>"
            ]
          },
          "metadata": {},
          "output_type": "display_data"
        },
        {
          "data": {
            "text/html": [
              " View project at <a href='https://wandb.ai/jameszampanu/diamond_prices' target=\"_blank\">https://wandb.ai/jameszampanu/diamond_prices</a>"
            ],
            "text/plain": [
              "<IPython.core.display.HTML object>"
            ]
          },
          "metadata": {},
          "output_type": "display_data"
        },
        {
          "data": {
            "text/html": [
              " View sweep at <a href='https://wandb.ai/jameszampanu/diamond_prices/sweeps/27ja3kk1' target=\"_blank\">https://wandb.ai/jameszampanu/diamond_prices/sweeps/27ja3kk1</a>"
            ],
            "text/plain": [
              "<IPython.core.display.HTML object>"
            ]
          },
          "metadata": {},
          "output_type": "display_data"
        },
        {
          "data": {
            "text/html": [
              " View run at <a href='https://wandb.ai/jameszampanu/diamond_prices/runs/0eu6xb5t' target=\"_blank\">https://wandb.ai/jameszampanu/diamond_prices/runs/0eu6xb5t</a>"
            ],
            "text/plain": [
              "<IPython.core.display.HTML object>"
            ]
          },
          "metadata": {},
          "output_type": "display_data"
        },
        {
          "name": "stdout",
          "output_type": "stream",
          "text": [
            "[0]\tvalidation_0-rmse:2172.89194\n",
            "[1]\tvalidation_0-rmse:1338.96581\n",
            "[2]\tvalidation_0-rmse:966.60032\n",
            "[3]\tvalidation_0-rmse:814.45398\n",
            "[4]\tvalidation_0-rmse:727.49514\n",
            "[5]\tvalidation_0-rmse:688.05756\n",
            "[6]\tvalidation_0-rmse:666.62559\n",
            "[7]\tvalidation_0-rmse:648.95462\n",
            "[8]\tvalidation_0-rmse:636.01437\n",
            "[9]\tvalidation_0-rmse:629.81699\n",
            "[10]\tvalidation_0-rmse:624.20078\n",
            "[11]\tvalidation_0-rmse:616.69522\n",
            "[12]\tvalidation_0-rmse:613.73102\n",
            "[13]\tvalidation_0-rmse:609.91800\n",
            "[14]\tvalidation_0-rmse:605.80494\n",
            "[15]\tvalidation_0-rmse:605.04427\n",
            "[16]\tvalidation_0-rmse:604.70779\n",
            "[17]\tvalidation_0-rmse:604.39063\n",
            "[18]\tvalidation_0-rmse:601.80001\n",
            "[19]\tvalidation_0-rmse:597.32733\n",
            "[20]\tvalidation_0-rmse:596.68553\n",
            "[21]\tvalidation_0-rmse:594.14794\n",
            "[22]\tvalidation_0-rmse:590.86356\n"
          ]
        },
        {
          "name": "stderr",
          "output_type": "stream",
          "text": [
            "[12:14:56] WARNING: /workspace/src/common/error_msg.cc:27: The tree method `gpu_hist` is deprecated since 2.0.0. To use GPU training, set the `device` parameter to CUDA instead.\n",
            "\n",
            "    E.g. tree_method = \"hist\", device = \"cuda\"\n",
            "\n"
          ]
        },
        {
          "name": "stdout",
          "output_type": "stream",
          "text": [
            "[23]\tvalidation_0-rmse:588.71969\n",
            "[24]\tvalidation_0-rmse:587.17912\n",
            "[25]\tvalidation_0-rmse:584.27589\n",
            "[26]\tvalidation_0-rmse:583.48380\n",
            "[27]\tvalidation_0-rmse:582.24966\n",
            "[28]\tvalidation_0-rmse:581.12342\n",
            "[29]\tvalidation_0-rmse:581.07376\n",
            "[30]\tvalidation_0-rmse:580.65854\n",
            "[31]\tvalidation_0-rmse:580.11500\n",
            "[32]\tvalidation_0-rmse:578.27559\n",
            "[33]\tvalidation_0-rmse:577.57401\n",
            "[34]\tvalidation_0-rmse:574.03580\n",
            "[35]\tvalidation_0-rmse:576.23195\n",
            "[36]\tvalidation_0-rmse:577.10972\n",
            "[37]\tvalidation_0-rmse:575.27873\n",
            "[38]\tvalidation_0-rmse:574.89259\n",
            "[39]\tvalidation_0-rmse:575.36248\n",
            "[40]\tvalidation_0-rmse:575.19306\n",
            "[41]\tvalidation_0-rmse:575.17948\n",
            "[42]\tvalidation_0-rmse:574.60999\n",
            "[43]\tvalidation_0-rmse:573.60481\n",
            "[44]\tvalidation_0-rmse:573.05122\n",
            "[45]\tvalidation_0-rmse:572.66241\n",
            "[46]\tvalidation_0-rmse:573.14280\n",
            "[47]\tvalidation_0-rmse:574.15146\n",
            "[48]\tvalidation_0-rmse:575.24947\n",
            "[49]\tvalidation_0-rmse:575.13315\n",
            "[50]\tvalidation_0-rmse:574.59717\n",
            "[51]\tvalidation_0-rmse:574.41128\n",
            "[52]\tvalidation_0-rmse:575.10531\n",
            "[53]\tvalidation_0-rmse:574.12690\n",
            "[54]\tvalidation_0-rmse:572.89924\n",
            "[55]\tvalidation_0-rmse:573.67628\n",
            "[56]\tvalidation_0-rmse:573.95865\n",
            "[57]\tvalidation_0-rmse:574.45105\n",
            "[58]\tvalidation_0-rmse:572.90524\n",
            "[59]\tvalidation_0-rmse:572.33551\n",
            "[60]\tvalidation_0-rmse:572.18693\n",
            "[61]\tvalidation_0-rmse:572.95480\n",
            "[62]\tvalidation_0-rmse:572.47162\n",
            "[63]\tvalidation_0-rmse:572.60811\n",
            "[64]\tvalidation_0-rmse:572.80539\n",
            "[65]\tvalidation_0-rmse:573.07176\n",
            "[66]\tvalidation_0-rmse:573.71507\n",
            "[67]\tvalidation_0-rmse:573.25314\n",
            "[68]\tvalidation_0-rmse:572.02097\n",
            "[69]\tvalidation_0-rmse:572.65293\n",
            "[70]\tvalidation_0-rmse:573.10593\n",
            "[71]\tvalidation_0-rmse:573.25216\n",
            "[72]\tvalidation_0-rmse:572.90210\n",
            "[73]\tvalidation_0-rmse:572.77870\n",
            "[74]\tvalidation_0-rmse:572.81841\n",
            "[75]\tvalidation_0-rmse:572.93788\n",
            "[76]\tvalidation_0-rmse:573.42966\n",
            "[77]\tvalidation_0-rmse:573.04131\n",
            "[78]\tvalidation_0-rmse:573.28343\n",
            "[79]\tvalidation_0-rmse:573.08843\n",
            "[80]\tvalidation_0-rmse:574.04998\n",
            "[81]\tvalidation_0-rmse:574.07203\n",
            "[82]\tvalidation_0-rmse:573.90283\n",
            "[83]\tvalidation_0-rmse:574.21654\n",
            "[84]\tvalidation_0-rmse:573.73420\n",
            "[85]\tvalidation_0-rmse:573.43442\n",
            "[86]\tvalidation_0-rmse:573.67728\n",
            "[87]\tvalidation_0-rmse:573.48301\n",
            "[88]\tvalidation_0-rmse:573.68453\n",
            "[89]\tvalidation_0-rmse:573.64199\n",
            "[90]\tvalidation_0-rmse:573.25300\n",
            "[91]\tvalidation_0-rmse:573.52610\n",
            "[92]\tvalidation_0-rmse:573.45058\n",
            "[93]\tvalidation_0-rmse:573.53290\n",
            "[94]\tvalidation_0-rmse:574.14472\n",
            "[95]\tvalidation_0-rmse:573.74560\n",
            "[96]\tvalidation_0-rmse:573.70411\n",
            "[97]\tvalidation_0-rmse:573.55682\n",
            "[98]\tvalidation_0-rmse:574.10826\n"
          ]
        },
        {
          "data": {
            "text/html": [
              "<style>\n",
              "    table.wandb td:nth-child(1) { padding: 0 10px; text-align: left ; width: auto;} td:nth-child(2) {text-align: left ; width: 100%}\n",
              "    .wandb-row { display: flex; flex-direction: row; flex-wrap: wrap; justify-content: flex-start; width: 100% }\n",
              "    .wandb-col { display: flex; flex-direction: column; flex-basis: 100%; flex: 1; padding: 10px; }\n",
              "    </style>\n",
              "<div class=\"wandb-row\"><div class=\"wandb-col\"><h3>Run history:</h3><br/><table class=\"wandb\"><tr><td>best_iteration</td><td>▁</td></tr><tr><td>best_score</td><td>▁</td></tr><tr><td>epoch</td><td>▁▁▁▁▂▂▂▂▂▃▃▃▃▃▃▄▄▄▄▄▅▅▅▅▅▅▆▆▆▆▆▇▇▇▇▇▇███</td></tr><tr><td>validation_0-rmse</td><td>█▃▂▁▁▁▁▁▁▁▁▁▁▁▁▁▁▁▁▁▁▁▁▁▁▁▁▁▁▁▁▁▁▁▁▁▁▁▁▁</td></tr></table><br/></div><div class=\"wandb-col\"><h3>Run summary:</h3><br/><table class=\"wandb\"><tr><td>best_iteration</td><td>68</td></tr><tr><td>best_score</td><td>572.02097</td></tr><tr><td>epoch</td><td>98</td></tr></table><br/></div></div>"
            ],
            "text/plain": [
              "<IPython.core.display.HTML object>"
            ]
          },
          "metadata": {},
          "output_type": "display_data"
        },
        {
          "data": {
            "text/html": [
              " View run <strong style=\"color:#cdcd00\">resilient-sweep-4</strong> at: <a href='https://wandb.ai/jameszampanu/diamond_prices/runs/0eu6xb5t' target=\"_blank\">https://wandb.ai/jameszampanu/diamond_prices/runs/0eu6xb5t</a><br/> View project at: <a href='https://wandb.ai/jameszampanu/diamond_prices' target=\"_blank\">https://wandb.ai/jameszampanu/diamond_prices</a><br/>Synced 6 W&B file(s), 1 media file(s), 1 artifact file(s) and 0 other file(s)"
            ],
            "text/plain": [
              "<IPython.core.display.HTML object>"
            ]
          },
          "metadata": {},
          "output_type": "display_data"
        },
        {
          "data": {
            "text/html": [
              "Find logs at: <code>./wandb/run-20240420_121452-0eu6xb5t/logs</code>"
            ],
            "text/plain": [
              "<IPython.core.display.HTML object>"
            ]
          },
          "metadata": {},
          "output_type": "display_data"
        },
        {
          "name": "stderr",
          "output_type": "stream",
          "text": [
            "\u001b[34m\u001b[1mwandb\u001b[0m: Agent Starting Run: fn2kgdzx with config:\n",
            "\u001b[34m\u001b[1mwandb\u001b[0m: \tearly_stopping_rounds: 40\n",
            "\u001b[34m\u001b[1mwandb\u001b[0m: \tgamma: 0.6888634287335959\n",
            "\u001b[34m\u001b[1mwandb\u001b[0m: \tlearning_rate: 0.35608746223759563\n",
            "\u001b[34m\u001b[1mwandb\u001b[0m: \tmin_child_weight: 130\n",
            "\u001b[34m\u001b[1mwandb\u001b[0m: \tn_estimators: 165\n",
            "Failed to detect the name of this notebook, you can set it manually with the WANDB_NOTEBOOK_NAME environment variable to enable code saving.\n"
          ]
        },
        {
          "data": {
            "text/html": [
              "Tracking run with wandb version 0.16.6"
            ],
            "text/plain": [
              "<IPython.core.display.HTML object>"
            ]
          },
          "metadata": {},
          "output_type": "display_data"
        },
        {
          "data": {
            "text/html": [
              "Run data is saved locally in <code>/home/james/Projects/MSAI_490_WB_Assignment/wandb/run-20240420_121508-fn2kgdzx</code>"
            ],
            "text/plain": [
              "<IPython.core.display.HTML object>"
            ]
          },
          "metadata": {},
          "output_type": "display_data"
        },
        {
          "data": {
            "text/html": [
              "Syncing run <strong><a href='https://wandb.ai/jameszampanu/diamond_prices/runs/fn2kgdzx' target=\"_blank\">drawn-sweep-5</a></strong> to <a href='https://wandb.ai/jameszampanu/diamond_prices' target=\"_blank\">Weights & Biases</a> (<a href='https://wandb.me/run' target=\"_blank\">docs</a>)<br/>Sweep page: <a href='https://wandb.ai/jameszampanu/diamond_prices/sweeps/27ja3kk1' target=\"_blank\">https://wandb.ai/jameszampanu/diamond_prices/sweeps/27ja3kk1</a>"
            ],
            "text/plain": [
              "<IPython.core.display.HTML object>"
            ]
          },
          "metadata": {},
          "output_type": "display_data"
        },
        {
          "data": {
            "text/html": [
              " View project at <a href='https://wandb.ai/jameszampanu/diamond_prices' target=\"_blank\">https://wandb.ai/jameszampanu/diamond_prices</a>"
            ],
            "text/plain": [
              "<IPython.core.display.HTML object>"
            ]
          },
          "metadata": {},
          "output_type": "display_data"
        },
        {
          "data": {
            "text/html": [
              " View sweep at <a href='https://wandb.ai/jameszampanu/diamond_prices/sweeps/27ja3kk1' target=\"_blank\">https://wandb.ai/jameszampanu/diamond_prices/sweeps/27ja3kk1</a>"
            ],
            "text/plain": [
              "<IPython.core.display.HTML object>"
            ]
          },
          "metadata": {},
          "output_type": "display_data"
        },
        {
          "data": {
            "text/html": [
              " View run at <a href='https://wandb.ai/jameszampanu/diamond_prices/runs/fn2kgdzx' target=\"_blank\">https://wandb.ai/jameszampanu/diamond_prices/runs/fn2kgdzx</a>"
            ],
            "text/plain": [
              "<IPython.core.display.HTML object>"
            ]
          },
          "metadata": {},
          "output_type": "display_data"
        },
        {
          "name": "stdout",
          "output_type": "stream",
          "text": [
            "[0]\tvalidation_0-rmse:2705.00555\n",
            "[1]\tvalidation_0-rmse:1918.41443\n",
            "[2]\tvalidation_0-rmse:1444.35658\n",
            "[3]\tvalidation_0-rmse:1147.67310\n",
            "[4]\tvalidation_0-rmse:967.06011\n",
            "[5]\tvalidation_0-rmse:857.22615\n",
            "[6]\tvalidation_0-rmse:786.44682\n",
            "[7]\tvalidation_0-rmse:748.32142\n",
            "[8]\tvalidation_0-rmse:721.70404\n",
            "[9]\tvalidation_0-rmse:701.02452\n",
            "[10]\tvalidation_0-rmse:686.55274\n",
            "[11]\tvalidation_0-rmse:678.87151\n",
            "[12]\tvalidation_0-rmse:667.58731\n",
            "[13]\tvalidation_0-rmse:661.00687\n",
            "[14]\tvalidation_0-rmse:652.53022\n",
            "[15]\tvalidation_0-rmse:647.43868\n",
            "[16]\tvalidation_0-rmse:642.05802\n",
            "[17]\tvalidation_0-rmse:638.34950\n",
            "[18]\tvalidation_0-rmse:634.29562\n",
            "[19]\tvalidation_0-rmse:629.98982\n",
            "[20]\tvalidation_0-rmse:627.61914\n",
            "[21]\tvalidation_0-rmse:624.69378\n",
            "[22]\tvalidation_0-rmse:623.43006\n",
            "[23]\tvalidation_0-rmse:621.18687\n",
            "[24]\tvalidation_0-rmse:616.54582\n",
            "[25]\tvalidation_0-rmse:615.71854\n",
            "[26]\tvalidation_0-rmse:613.69654\n",
            "[27]\tvalidation_0-rmse:611.83358\n",
            "[28]\tvalidation_0-rmse:611.38531\n",
            "[29]\tvalidation_0-rmse:609.77744\n",
            "[30]\tvalidation_0-rmse:608.44797\n",
            "[31]\tvalidation_0-rmse:608.01357\n",
            "[32]\tvalidation_0-rmse:606.72148\n",
            "[33]\tvalidation_0-rmse:603.36639\n"
          ]
        },
        {
          "name": "stderr",
          "output_type": "stream",
          "text": [
            "[12:15:13] WARNING: /workspace/src/common/error_msg.cc:27: The tree method `gpu_hist` is deprecated since 2.0.0. To use GPU training, set the `device` parameter to CUDA instead.\n",
            "\n",
            "    E.g. tree_method = \"hist\", device = \"cuda\"\n",
            "\n"
          ]
        },
        {
          "name": "stdout",
          "output_type": "stream",
          "text": [
            "[34]\tvalidation_0-rmse:601.79194\n",
            "[35]\tvalidation_0-rmse:601.67264\n",
            "[36]\tvalidation_0-rmse:601.72188\n",
            "[37]\tvalidation_0-rmse:601.37024\n",
            "[38]\tvalidation_0-rmse:601.37268\n",
            "[39]\tvalidation_0-rmse:599.29704\n",
            "[40]\tvalidation_0-rmse:597.35913\n",
            "[41]\tvalidation_0-rmse:596.60793\n",
            "[42]\tvalidation_0-rmse:596.05912\n",
            "[43]\tvalidation_0-rmse:593.78245\n",
            "[44]\tvalidation_0-rmse:591.87748\n",
            "[45]\tvalidation_0-rmse:591.69227\n",
            "[46]\tvalidation_0-rmse:591.63379\n",
            "[47]\tvalidation_0-rmse:591.49182\n",
            "[48]\tvalidation_0-rmse:590.84644\n",
            "[49]\tvalidation_0-rmse:589.57515\n",
            "[50]\tvalidation_0-rmse:589.15932\n",
            "[51]\tvalidation_0-rmse:588.71589\n",
            "[52]\tvalidation_0-rmse:588.42634\n",
            "[53]\tvalidation_0-rmse:587.32954\n",
            "[54]\tvalidation_0-rmse:587.33372\n",
            "[55]\tvalidation_0-rmse:587.25075\n",
            "[56]\tvalidation_0-rmse:586.27620\n",
            "[57]\tvalidation_0-rmse:586.39036\n",
            "[58]\tvalidation_0-rmse:585.94247\n",
            "[59]\tvalidation_0-rmse:586.03169\n",
            "[60]\tvalidation_0-rmse:585.64391\n",
            "[61]\tvalidation_0-rmse:585.45541\n",
            "[62]\tvalidation_0-rmse:584.60715\n",
            "[63]\tvalidation_0-rmse:583.73732\n",
            "[64]\tvalidation_0-rmse:583.91316\n",
            "[65]\tvalidation_0-rmse:583.30438\n",
            "[66]\tvalidation_0-rmse:582.41745\n",
            "[67]\tvalidation_0-rmse:582.84376\n",
            "[68]\tvalidation_0-rmse:582.71245\n",
            "[69]\tvalidation_0-rmse:583.04111\n",
            "[70]\tvalidation_0-rmse:582.31252\n",
            "[71]\tvalidation_0-rmse:581.57835\n",
            "[72]\tvalidation_0-rmse:580.92712\n",
            "[73]\tvalidation_0-rmse:580.76182\n",
            "[74]\tvalidation_0-rmse:580.99512\n",
            "[75]\tvalidation_0-rmse:581.44554\n",
            "[76]\tvalidation_0-rmse:581.88658\n",
            "[77]\tvalidation_0-rmse:581.52098\n",
            "[78]\tvalidation_0-rmse:581.13958\n",
            "[79]\tvalidation_0-rmse:580.69049\n",
            "[80]\tvalidation_0-rmse:581.11001\n",
            "[81]\tvalidation_0-rmse:580.83113\n",
            "[82]\tvalidation_0-rmse:581.05721\n",
            "[83]\tvalidation_0-rmse:580.91286\n",
            "[84]\tvalidation_0-rmse:580.72793\n",
            "[85]\tvalidation_0-rmse:580.36368\n",
            "[86]\tvalidation_0-rmse:580.28286\n",
            "[87]\tvalidation_0-rmse:580.10515\n",
            "[88]\tvalidation_0-rmse:579.60032\n",
            "[89]\tvalidation_0-rmse:579.59059\n",
            "[90]\tvalidation_0-rmse:579.05963\n",
            "[91]\tvalidation_0-rmse:579.46734\n",
            "[92]\tvalidation_0-rmse:578.99559\n",
            "[93]\tvalidation_0-rmse:578.55710\n",
            "[94]\tvalidation_0-rmse:578.16289\n",
            "[95]\tvalidation_0-rmse:578.26595\n",
            "[96]\tvalidation_0-rmse:578.16163\n",
            "[97]\tvalidation_0-rmse:578.41755\n",
            "[98]\tvalidation_0-rmse:578.06187\n",
            "[99]\tvalidation_0-rmse:576.66191\n",
            "[100]\tvalidation_0-rmse:576.34298\n",
            "[101]\tvalidation_0-rmse:575.43388\n",
            "[102]\tvalidation_0-rmse:575.34745\n",
            "[103]\tvalidation_0-rmse:575.34893\n",
            "[104]\tvalidation_0-rmse:575.42549\n",
            "[105]\tvalidation_0-rmse:575.01299\n",
            "[106]\tvalidation_0-rmse:574.44642\n",
            "[107]\tvalidation_0-rmse:574.29513\n",
            "[108]\tvalidation_0-rmse:574.48910\n",
            "[109]\tvalidation_0-rmse:574.10305\n",
            "[110]\tvalidation_0-rmse:573.54751\n",
            "[111]\tvalidation_0-rmse:573.54958\n",
            "[112]\tvalidation_0-rmse:573.00098\n",
            "[113]\tvalidation_0-rmse:573.05305\n",
            "[114]\tvalidation_0-rmse:572.93354\n",
            "[115]\tvalidation_0-rmse:572.82389\n",
            "[116]\tvalidation_0-rmse:572.33415\n",
            "[117]\tvalidation_0-rmse:572.36925\n",
            "[118]\tvalidation_0-rmse:572.21386\n",
            "[119]\tvalidation_0-rmse:572.08437\n",
            "[120]\tvalidation_0-rmse:572.14149\n",
            "[121]\tvalidation_0-rmse:571.83922\n",
            "[122]\tvalidation_0-rmse:571.72378\n",
            "[123]\tvalidation_0-rmse:571.33697\n",
            "[124]\tvalidation_0-rmse:571.79031\n",
            "[125]\tvalidation_0-rmse:571.08427\n",
            "[126]\tvalidation_0-rmse:570.76721\n",
            "[127]\tvalidation_0-rmse:570.86040\n",
            "[128]\tvalidation_0-rmse:569.93644\n",
            "[129]\tvalidation_0-rmse:569.81752\n",
            "[130]\tvalidation_0-rmse:569.73150\n",
            "[131]\tvalidation_0-rmse:569.63500\n",
            "[132]\tvalidation_0-rmse:569.22594\n",
            "[133]\tvalidation_0-rmse:568.65745\n",
            "[134]\tvalidation_0-rmse:568.63731\n",
            "[135]\tvalidation_0-rmse:568.31055\n",
            "[136]\tvalidation_0-rmse:568.21381\n",
            "[137]\tvalidation_0-rmse:568.17398\n",
            "[138]\tvalidation_0-rmse:567.86106\n",
            "[139]\tvalidation_0-rmse:568.15348\n",
            "[140]\tvalidation_0-rmse:567.84054\n",
            "[141]\tvalidation_0-rmse:567.62626\n",
            "[142]\tvalidation_0-rmse:567.80233\n",
            "[143]\tvalidation_0-rmse:567.75736\n",
            "[144]\tvalidation_0-rmse:567.35044\n",
            "[145]\tvalidation_0-rmse:567.60844\n",
            "[146]\tvalidation_0-rmse:567.41751\n",
            "[147]\tvalidation_0-rmse:567.19907\n",
            "[148]\tvalidation_0-rmse:567.39091\n",
            "[149]\tvalidation_0-rmse:567.28657\n",
            "[150]\tvalidation_0-rmse:567.48883\n",
            "[151]\tvalidation_0-rmse:567.24804\n",
            "[152]\tvalidation_0-rmse:567.61770\n",
            "[153]\tvalidation_0-rmse:567.31247\n",
            "[154]\tvalidation_0-rmse:567.35854\n",
            "[155]\tvalidation_0-rmse:567.27339\n",
            "[156]\tvalidation_0-rmse:566.83718\n",
            "[157]\tvalidation_0-rmse:567.15151\n",
            "[158]\tvalidation_0-rmse:566.96199\n",
            "[159]\tvalidation_0-rmse:566.29526\n",
            "[160]\tvalidation_0-rmse:566.85417\n",
            "[161]\tvalidation_0-rmse:566.24391\n",
            "[162]\tvalidation_0-rmse:566.03161\n",
            "[163]\tvalidation_0-rmse:565.97059\n",
            "[164]\tvalidation_0-rmse:565.47304\n"
          ]
        },
        {
          "data": {
            "text/html": [
              "<style>\n",
              "    table.wandb td:nth-child(1) { padding: 0 10px; text-align: left ; width: auto;} td:nth-child(2) {text-align: left ; width: 100%}\n",
              "    .wandb-row { display: flex; flex-direction: row; flex-wrap: wrap; justify-content: flex-start; width: 100% }\n",
              "    .wandb-col { display: flex; flex-direction: column; flex-basis: 100%; flex: 1; padding: 10px; }\n",
              "    </style>\n",
              "<div class=\"wandb-row\"><div class=\"wandb-col\"><h3>Run history:</h3><br/><table class=\"wandb\"><tr><td>best_iteration</td><td>▁</td></tr><tr><td>best_score</td><td>▁</td></tr><tr><td>epoch</td><td>▁▁▁▂▂▂▂▂▂▃▃▃▃▃▄▄▄▄▄▄▅▅▅▅▅▅▆▆▆▆▆▇▇▇▇▇▇███</td></tr><tr><td>validation_0-rmse</td><td>█▃▂▁▁▁▁▁▁▁▁▁▁▁▁▁▁▁▁▁▁▁▁▁▁▁▁▁▁▁▁▁▁▁▁▁▁▁▁▁</td></tr></table><br/></div><div class=\"wandb-col\"><h3>Run summary:</h3><br/><table class=\"wandb\"><tr><td>best_iteration</td><td>164</td></tr><tr><td>best_score</td><td>565.47304</td></tr><tr><td>epoch</td><td>164</td></tr></table><br/></div></div>"
            ],
            "text/plain": [
              "<IPython.core.display.HTML object>"
            ]
          },
          "metadata": {},
          "output_type": "display_data"
        },
        {
          "data": {
            "text/html": [
              " View run <strong style=\"color:#cdcd00\">drawn-sweep-5</strong> at: <a href='https://wandb.ai/jameszampanu/diamond_prices/runs/fn2kgdzx' target=\"_blank\">https://wandb.ai/jameszampanu/diamond_prices/runs/fn2kgdzx</a><br/> View project at: <a href='https://wandb.ai/jameszampanu/diamond_prices' target=\"_blank\">https://wandb.ai/jameszampanu/diamond_prices</a><br/>Synced 6 W&B file(s), 1 media file(s), 1 artifact file(s) and 0 other file(s)"
            ],
            "text/plain": [
              "<IPython.core.display.HTML object>"
            ]
          },
          "metadata": {},
          "output_type": "display_data"
        },
        {
          "data": {
            "text/html": [
              "Find logs at: <code>./wandb/run-20240420_121508-fn2kgdzx/logs</code>"
            ],
            "text/plain": [
              "<IPython.core.display.HTML object>"
            ]
          },
          "metadata": {},
          "output_type": "display_data"
        }
      ],
      "source": [
        "count = 5 # number of runs to execute\n",
        "wandb.agent(sweep_id, function=train, count=count)"
      ]
    },
    {
      "cell_type": "markdown",
      "metadata": {},
      "source": [
        "# Experiment Description\n",
        "\n",
        "- This experiment runs 5 different hyper-parameter configurations using random variations of learning rate, gamma, min child weight, early stopping rounds, num estimators for the XGBRegressor model. Looking at the results of the experiment on WandB we see that sweep run 3 performed best with 10 early stopping rounds, a gamma of 0.35, a learning rate of 0.62, a min child weight of 84, and 754 num estimators."
      ]
    }
  ],
  "metadata": {
    "accelerator": "GPU",
    "colab": {
      "gpuType": "V100",
      "machine_shape": "hm",
      "provenance": []
    },
    "kernelspec": {
      "display_name": "Python 3",
      "name": "python3"
    },
    "language_info": {
      "codemirror_mode": {
        "name": "ipython",
        "version": 3
      },
      "file_extension": ".py",
      "mimetype": "text/x-python",
      "name": "python",
      "nbconvert_exporter": "python",
      "pygments_lexer": "ipython3",
      "version": "3.10.14"
    }
  },
  "nbformat": 4,
  "nbformat_minor": 0
}
